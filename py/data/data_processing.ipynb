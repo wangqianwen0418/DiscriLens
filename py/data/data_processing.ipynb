{
 "cells": [
  {
   "cell_type": "code",
   "execution_count": 1,
   "metadata": {},
   "outputs": [],
   "source": [
    "import pandas as pd\n",
    "import numpy as np\n",
    "\n",
    "df = pd.read_csv('dataTest.csv')\n",
    "\n",
    "df_out = df.reindex(np.random.permutation(df.index))\n",
    "\n",
    "classData = df_out['class']\n",
    "classDataNew = []\n",
    "for var in classData:\n",
    "    if var=='LOW':\n",
    "        classDataNew.append(0)\n",
    "    elif var=='HIGH':\n",
    "        classDataNew.append(1)\n",
    "\n",
    "df_out['class'] = classDataNew\n",
    "df_out.to_csv('dataTest2.csv')"
   ]
  },
  {
   "cell_type": "code",
   "execution_count": null,
   "metadata": {},
   "outputs": [],
   "source": [
    "import pandas as pd\n",
    "import numpy as np\n",
    "\n",
    "df = pd.read_csv('give_credit_clean.csv')\n",
    "\n",
    "df_out = df.reindex(np.random.permutation(df.index))\n",
    "\n",
    "\n",
    "df_out[0:999].to_csv('data.csv')"
   ]
  }
 ],
 "metadata": {
  "kernelspec": {
   "display_name": "Python 3",
   "language": "python",
   "name": "python3"
  },
  "language_info": {
   "codemirror_mode": {
    "name": "ipython",
    "version": 3
   },
   "file_extension": ".py",
   "mimetype": "text/x-python",
   "name": "python",
   "nbconvert_exporter": "python",
   "pygments_lexer": "ipython3",
   "version": "3.7.2"
  }
 },
 "nbformat": 4,
 "nbformat_minor": 2
}
