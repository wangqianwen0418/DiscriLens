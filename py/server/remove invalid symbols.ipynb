#%% Change working directory from the workspace root to the ipynb file location. Turn this addition off with the DataScience.changeDirOnImportExport setting
# ms-python.python added
import os
try:
	os.chdir(os.path.join(os.getcwd(), 'py/server'))
	print(os.getcwd())
except:
	pass

#%%
import pandas as pd

data_path = "../data/adult/"

df = pd.read_csv(os.path.join(data_path, 'adult.test.csv'))

df_clean = df.replace({' ?': None}).dropna(axis=0)
print('original record', len(df))
print('missing record', len(df) - len(df_clean))
df_clean.to_csv(os.path.join(data_path, 'adult.test.csv'),index=False)


#%%



