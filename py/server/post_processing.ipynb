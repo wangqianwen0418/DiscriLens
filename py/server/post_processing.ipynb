{
 "cells": [
  {
   "cell_type": "code",
   "execution_count": 66,
   "metadata": {},
   "outputs": [],
   "source": [
    "import os\n",
    "import pandas as pd\n",
    "import json\n",
    "\n",
    "from model import num2cate_fit, num2cate_transform, generate_samples, generate_model_samples, ModelGene, findKeyAttrs, FindGroups, get_numAttrs, find_rules\n",
    "from model.samples import DataGene\n",
    "from model.data_encoder import DataEncoder\n",
    "from joblib import dump, load\n",
    "\n",
    "import numpy as np\n",
    "\n",
    "from sklearn.model_selection import cross_val_score, train_test_split\n",
    "from sklearn.metrics import accuracy_score\n",
    "\n",
    "store_path = '../../front/src/testdata/'\n",
    "dataset_name = 'adult'\n",
    "model_name = 'knn'\n",
    "theta = 0.8\n"
   ]
  },
  {
   "cell_type": "code",
   "execution_count": 70,
   "metadata": {},
   "outputs": [
    {
     "name": "stdout",
     "output_type": "stream",
     "text": [
      "samplePrior: Sample prior (min = 1.0) (java.lang.Double) [default:1.0]\n",
      "structurePrior: Structure prior coefficient (min = 1.0) (java.lang.Double) [default:1.0]\n",
      "faithfulnessAssumed: Yes if (one edge) faithfulness should be assumed (java.lang.Boolean) [default:true]\n",
      "symmetricFirstStep: Yes if the first step step for FGES should do scoring for both X->Y and Y->X (java.lang.Boolean) [default:false]\n",
      "maxDegree: The maximum degree of the graph (min = -1) (java.lang.Integer) [default:100]\n",
      "verbose: Yes if verbose output should be printed or logged (java.lang.Boolean) [default:true]\n",
      "numberResampling: The number of resampling iterations (min = 0) (java.lang.Integer) [default:0]\n",
      "resampleSize: The resample size (min = 1) (java.lang.Integer) [default:1]\n",
      "resamplingWithReplacement: Yes, if resampling with replacement (bootstrapping) (java.lang.Boolean) [default:true]\n",
      "resamplingEnsemble: Ensemble method: Preserved (0), Highest (1), Majority (2) (java.lang.Integer) [default:1]\n",
      "edges ['class --- VisITedResources', 'Relation --- class', 'class --- AnnouncementsView', 'StudentAbsenceDays --- gender', 'class --- raisedhands', 'class --- StudentAbsenceDays']\n",
      "key attributes ['VisITedResources', 'Relation', 'AnnouncementsView', 'raisedhands', 'StudentAbsenceDays']\n"
     ]
    }
   ],
   "source": [
    "dataset_name='academic'\n",
    "dataset_path = '../server/{}.csv'.format(dataset_name)\n",
    "data = pd.read_csv(dataset_path)\n",
    "mdlp = num2cate_fit(data)\n",
    "key_attrs = findKeyAttrs(num2cate_transform(data, mdlp), '')"
   ]
  },
  {
   "cell_type": "code",
   "execution_count": 23,
   "metadata": {},
   "outputs": [
    {
     "name": "stderr",
     "output_type": "stream",
     "text": [
      "/Users/wangqianwen/Documents/git_repo/discrimination_in_ML/py/myenv/lib/python3.6/site-packages/sklearn/preprocessing/_encoders.py:368: FutureWarning: The handling of integer data will change in version 0.22. Currently, the categories are determined based on the range [0, max(values)], while in the future they will be determined based on the unique values.\n",
      "If you want the future behaviour and silence this warning, you can specify \"categories='auto'\".\n",
      "In case you used a LabelEncoder before this OneHotEncoder to convert the categories to integers, then you can now use the OneHotEncoder directly.\n",
      "  warnings.warn(msg, FutureWarning)\n",
      "/Users/wangqianwen/Documents/git_repo/discrimination_in_ML/py/myenv/lib/python3.6/site-packages/sklearn/preprocessing/label.py:219: DataConversionWarning: A column-vector y was passed when a 1d array was expected. Please change the shape of y to (n_samples, ), for example using ravel().\n",
      "  y = column_or_1d(y, warn=True)\n",
      "/Users/wangqianwen/Documents/git_repo/discrimination_in_ML/py/myenv/lib/python3.6/site-packages/sklearn/preprocessing/label.py:252: DataConversionWarning: A column-vector y was passed when a 1d array was expected. Please change the shape of y to (n_samples, ), for example using ravel().\n",
      "  y = column_or_1d(y, warn=True)\n",
      "/Users/wangqianwen/Documents/git_repo/discrimination_in_ML/py/server/model/data_encoder.py:175: SettingWithCopyWarning: \n",
      "A value is trying to be set on a copy of a slice from a DataFrame.\n",
      "Try using .loc[row_indexer,col_indexer] = value instead\n",
      "\n",
      "See the caveats in the documentation: http://pandas.pydata.org/pandas-docs/stable/indexing.html#indexing-view-versus-copy\n",
      "  cats[column] = encoder.transform(cats[column])\n",
      "/Users/wangqianwen/Documents/git_repo/discrimination_in_ML/py/server/model/data_encoder.py:175: SettingWithCopyWarning: \n",
      "A value is trying to be set on a copy of a slice from a DataFrame.\n",
      "Try using .loc[row_indexer,col_indexer] = value instead\n",
      "\n",
      "See the caveats in the documentation: http://pandas.pydata.org/pandas-docs/stable/indexing.html#indexing-view-versus-copy\n",
      "  cats[column] = encoder.transform(cats[column])\n"
     ]
    },
    {
     "data": {
      "text/plain": [
       "0.9375"
      ]
     },
     "execution_count": 23,
     "metadata": {},
     "output_type": "execute_result"
    }
   ],
   "source": [
    "\n",
    "dataset_path = '../server/{}.csv'.format(dataset_name)\n",
    "data = pd.read_csv(dataset_path)\n",
    "mdlp = num2cate_fit(data)\n",
    "\n",
    "\n",
    "\n",
    "samples_path = os.path.join(store_path, '{}_samples.json'.format(dataset_name))\n",
    "samplesInit = pd.read_json(samples_path)\n",
    "\n",
    "# set name\n",
    "model_path = dataset_name+\"_\"+model_name\n",
    "model_gene = ModelGene(model_path)\n",
    "\n",
    "# train model\n",
    "model, encoder, score = model_gene.fit_model( num2cate_transform(data, mdlp) )\n",
    "\n",
    "\n",
    "\n",
    "# post process\n",
    "samples = num2cate_transform(samplesInit, mdlp)\n",
    "# model predict proba\n",
    "x_samples, _ = encoder.transform(samples)\n",
    "y_samples = model.predict(x_samples)\n",
    "y_probs = model.predict_proba(x_samples)\n",
    "\n",
    "score"
   ]
  },
  {
   "cell_type": "code",
   "execution_count": 50,
   "metadata": {},
   "outputs": [
    {
     "name": "stderr",
     "output_type": "stream",
     "text": [
      "/Users/wangqianwen/Documents/git_repo/discrimination_in_ML/py/myenv/lib/python3.6/site-packages/sklearn/preprocessing/label.py:252: DataConversionWarning: A column-vector y was passed when a 1d array was expected. Please change the shape of y to (n_samples, ), for example using ravel().\n",
      "  y = column_or_1d(y, warn=True)\n",
      "/Users/wangqianwen/Documents/git_repo/discrimination_in_ML/py/server/model/data_encoder.py:175: SettingWithCopyWarning: \n",
      "A value is trying to be set on a copy of a slice from a DataFrame.\n",
      "Try using .loc[row_indexer,col_indexer] = value instead\n",
      "\n",
      "See the caveats in the documentation: http://pandas.pydata.org/pandas-docs/stable/indexing.html#indexing-view-versus-copy\n",
      "  cats[column] = encoder.transform(cats[column])\n"
     ]
    },
    {
     "data": {
      "text/plain": [
       "0.9166666666666666"
      ]
     },
     "execution_count": 50,
     "metadata": {},
     "output_type": "execute_result"
    }
   ],
   "source": [
    "def predict_post(x_samples, model, theta, samples, constraints=[['gender', 'M']]):\n",
    "    y_samples = model.predict(x_samples)\n",
    "    y_probs = model.predict_proba(x_samples)\n",
    "    y_post_samples = []\n",
    "    for idx, prob in enumerate( y_probs):\n",
    "        # if in the reject option space, modify label\n",
    "        if max(prob[1], 1- prob[1])<theta and all([samples.iloc[idx][constraint[0]]==constraint[1] for constraint in constraints]):\n",
    "            y_post_samples.append(1)\n",
    "        # else, remain the same\n",
    "        else:\n",
    "            y_post_samples.append(y_samples[idx])\n",
    "    return y_post_samples\n",
    "\n",
    "x, y = encoder.transform(num2cate_transform(data, mdlp))\n",
    "x_train, x_test, y_train, y_test = train_test_split(x, y, test_size=0.2, random_state=0)\n",
    "y_post_test = predict_post(x_test, model, theta, data, '')\n",
    "score = accuracy_score(y_test, y_post_test)\n",
    "score"
   ]
  },
  {
   "cell_type": "code",
   "execution_count": 58,
   "metadata": {},
   "outputs": [],
   "source": [
    "y_samples_post = predict_post(x_samples, model, theta, samples, [['gender', 'M']])\n",
    "\n",
    "#  concate \n",
    "num_samples = samplesInit.copy()\n",
    "num_samples['class'] = pd.Series(np.asarray(y_samples_post), index= samples.index) \n",
    "\n",
    "cate_samples = samples.copy()\n",
    "cate_samples['class'] = pd.Series(np.asarray(y_samples_post), index= samples.index) \n",
    "\n",
    "cate_samples.insert(loc=0, column='id', value= cate_samples.index)\n",
    "num_samples.insert(loc=0, column='id', value= num_samples.index)\n",
    "\n",
    "dataOut = pd.concat([num_samples,cate_samples])\n",
    "\n",
    "samples_path = os.path.join(store_path, '{}_{}_post_samples.json'.format(dataset_name, model_name))\n",
    "dataOut.to_json(samples_path, orient='records')\n",
    "samples_path = os.path.join(store_path, '{}_{}_post_samples.csv'.format(dataset_name, model_name))\n",
    "dataOut.to_csv(samples_path)"
   ]
  },
  {
   "cell_type": "code",
   "execution_count": 59,
   "metadata": {},
   "outputs": [],
   "source": [
    "y_samples_post = predict_post(x_samples, model, theta, samples, [['gender', 'M'], ['StudentAbsenceDays', 'Above-7']])\n",
    "\n",
    "#  concate \n",
    "num_samples = samplesInit.copy()\n",
    "num_samples['class'] = pd.Series(np.asarray(y_samples_post), index= samples.index) \n",
    "\n",
    "cate_samples = samples.copy()\n",
    "cate_samples['class'] = pd.Series(np.asarray(y_samples_post), index= samples.index) \n",
    "\n",
    "cate_samples.insert(loc=0, column='id', value= cate_samples.index)\n",
    "num_samples.insert(loc=0, column='id', value= num_samples.index)\n",
    "\n",
    "dataOut = pd.concat([num_samples,cate_samples])\n",
    "\n",
    "samples_path = os.path.join(store_path, '{}_{}_post2_samples.json'.format(dataset_name, model_name))\n",
    "dataOut.to_json(samples_path, orient='records')\n",
    "samples_path = os.path.join(store_path, '{}_{}_post2_samples.csv'.format(dataset_name, model_name))\n",
    "dataOut.to_csv(samples_path)"
   ]
  },
  {
   "cell_type": "code",
   "execution_count": 60,
   "metadata": {},
   "outputs": [
    {
     "name": "stderr",
     "output_type": "stream",
     "text": [
      "/Users/wangqianwen/Documents/git_repo/discrimination_in_ML/py/myenv/lib/python3.6/site-packages/sklearn/preprocessing/label.py:252: DataConversionWarning: A column-vector y was passed when a 1d array was expected. Please change the shape of y to (n_samples, ), for example using ravel().\n",
      "  y = column_or_1d(y, warn=True)\n",
      "/Users/wangqianwen/Documents/git_repo/discrimination_in_ML/py/server/model/data_encoder.py:175: SettingWithCopyWarning: \n",
      "A value is trying to be set on a copy of a slice from a DataFrame.\n",
      "Try using .loc[row_indexer,col_indexer] = value instead\n",
      "\n",
      "See the caveats in the documentation: http://pandas.pydata.org/pandas-docs/stable/indexing.html#indexing-view-versus-copy\n",
      "  cats[column] = encoder.transform(cats[column])\n"
     ]
    }
   ],
   "source": [
    "x, y = encoder.transform(num2cate_transform(data, mdlp))\n",
    "x_train, x_test, y_train, y_test = train_test_split(x, y, test_size=0.2, random_state=0)\n",
    "y_post_test = predict_post(x_test, model, theta, data, [['gender', 'M'], ['StudentAbsenceDays', 'Above-7']])\n",
    "score = accuracy_score(y_test, y_post_test)"
   ]
  },
  {
   "cell_type": "code",
   "execution_count": 61,
   "metadata": {},
   "outputs": [
    {
     "data": {
      "text/plain": [
       "0.9166666666666666"
      ]
     },
     "execution_count": 61,
     "metadata": {},
     "output_type": "execute_result"
    }
   ],
   "source": [
    "score"
   ]
  },
  {
   "cell_type": "code",
   "execution_count": null,
   "metadata": {},
   "outputs": [],
   "source": []
  }
 ],
 "metadata": {
  "kernelspec": {
   "display_name": "Python 3",
   "language": "python",
   "name": "python3"
  },
  "language_info": {
   "codemirror_mode": {
    "name": "ipython",
    "version": 3
   },
   "file_extension": ".py",
   "mimetype": "text/x-python",
   "name": "python",
   "nbconvert_exporter": "python",
   "pygments_lexer": "ipython3",
   "version": "3.6.5"
  }
 },
 "nbformat": 4,
 "nbformat_minor": 2
}
