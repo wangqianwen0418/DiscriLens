{
 "cells": [
  {
   "cell_type": "code",
   "execution_count": 1,
   "metadata": {},
   "outputs": [],
   "source": [
    "import pandas as pd\n",
    "dataIn = pd.read_csv('adult_test.csv')\n",
    "dataIn = dataIn.dropna(how='any') \n",
    "classData = dataIn['class']\n",
    "classDataNew = []\n",
    "for var in classData:\n",
    "    if var==classData[0]:\n",
    "        classDataNew.append('LOW')\n",
    "    else:\n",
    "        classDataNew.append('HIGH')\n",
    "\n",
    "df = dataIn.copy()\n",
    "df['class'] = classDataNew\n",
    "df = df[(df.values != ' nan').all(axis=1)]\n",
    "df.to_csv('./dataTest.csv')"
   ]
  },
  {
   "cell_type": "code",
   "execution_count": null,
   "metadata": {},
   "outputs": [],
   "source": []
  },
  {
   "cell_type": "code",
   "execution_count": 1,
   "metadata": {},
   "outputs": [],
   "source": [
    "import math\n",
    "import pandas as pd\n",
    "def findRange(thresholds, v):\n",
    "    for i, th in enumerate(thresholds):\n",
    "        if(v <= th):\n",
    "            if i==0:\n",
    "                    return \"x<{}\".format(th)\n",
    "            elif i == len(thresholds)-1:\n",
    "                    return \"x>{}\".format(thresholds[i-1])\n",
    "            else:\n",
    "                    return \"{}<x<{}\".format(thresholds[i-1], thresholds[i])\n",
    "                \n",
    "def convert_cate(arr):\n",
    "    n = 4 #parts to be divided\n",
    "    maxValue = max(arr)\n",
    "    minValue = min(arr)\n",
    "    thresholds = [ math.floor(i*(maxValue-minValue)/n)+minValue for i in range(n+1)]\n",
    "\n",
    "    #print([findRange(thresholds, i) for i in arr])\n",
    "    \n",
    "    return pd.Series([findRange(thresholds, i) for i in arr])\n",
    "\n",
    "\n",
    "def num2cate(dataIn):\n",
    "    df = dataIn[:]\n",
    "#     new_data = pd.DataFrame()\n",
    "    for k in df.columns:\n",
    "        if(k in df.select_dtypes(include=['int64','float64'])):\n",
    "            values = pd.to_numeric(df[k])\n",
    "            df[k] = convert_cate(values.tolist())\n",
    "        \n",
    "    return df\n"
   ]
  },
  {
   "cell_type": "code",
   "execution_count": 3,
   "metadata": {},
   "outputs": [
    {
     "name": "stdout",
     "output_type": "stream",
     "text": [
      "Done!\n"
     ]
    }
   ],
   "source": [
    "import pandas as pd\n",
    "import os\n",
    "datasets = ['dataTest','bank']\n",
    "cache_path = './cache'\n",
    "for var in datasets:\n",
    "    df = pd.read_csv(os.path.join(cache_path, var + '.csv' ))\n",
    "    dataOut = num2cate(df)\n",
    "    dataOut.to_csv(cache_path + '/new_data_diff_models/' + var + '_clean.csv')\n",
    "print('Done!')"
   ]
  },
  {
   "cell_type": "code",
   "execution_count": null,
   "metadata": {},
   "outputs": [],
   "source": []
  }
 ],
 "metadata": {
  "kernelspec": {
   "display_name": "Python 3",
   "language": "python",
   "name": "python3"
  },
  "language_info": {
   "codemirror_mode": {
    "name": "ipython",
    "version": 3
   },
   "file_extension": ".py",
   "mimetype": "text/x-python",
   "name": "python",
   "nbconvert_exporter": "python",
   "pygments_lexer": "ipython3",
   "version": "3.7.1"
  }
 },
 "nbformat": 4,
 "nbformat_minor": 2
}
