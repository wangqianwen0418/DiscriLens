{
 "cells": [
  {
   "cell_type": "code",
   "execution_count": 151,
   "metadata": {},
   "outputs": [],
   "source": [
    "\n",
    "import os\n",
    "import pandas as pd\n",
    "import json\n",
    "import numpy as np\n",
    "\n",
    "from model import num2cate_fit, num2cate_transform, generate_samples, generate_model_samples, ModelGene, findKeyAttrs, FindGroups, get_numAttrs, find_rules\n",
    "from model.samples import DataGene\n",
    "from model.data_encoder import DataEncoder\n",
    "from joblib import dump, load\n",
    "\n",
    "from sklearn.model_selection import KFold\n",
    "import dill\n",
    "import pickle\n",
    "import warnings\n",
    "warnings.filterwarnings('ignore')\n",
    "\n",
    "from itertools import chain\n"
   ]
  },
  {
   "cell_type": "code",
   "execution_count": 87,
   "metadata": {
    "scrolled": true
   },
   "outputs": [],
   "source": [
    "\n",
    "\n",
    "store_path = '../../front/src/testdata/'\n",
    "\n",
    "\n",
    "\n",
    "    \n",
    "    \n",
    "def init_samples(dataset_name, find_key=False):\n",
    "    sample_num = 1000 # number of generated data \n",
    "    dataset_path = '../server/{}.csv'.format(dataset_name)\n",
    "    data = pd.read_csv(dataset_path)\n",
    "    \n",
    "    mdlp = num2cate_fit(data, 2)\n",
    "    \n",
    "    if find_key:\n",
    "        # find key_attrs\n",
    "        key_attrs = findKeyAttrs(num2cate_transform(data, mdlp))\n",
    "        f = open(store_path + '{}_key.json'.format(dataset_name),'w')\n",
    "        json.dump(key_attrs, f)\n",
    "    \n",
    "    #  save mdelp\n",
    "    f=open('{}_mdlp.pkl'.format(dataset_name), 'wb')\n",
    "    dill.dump(mdlp, f, -1)\n",
    "    \n",
    "    \n",
    "    # generate samples\n",
    "    samplesInit = generate_samples(data, sample_num)\n",
    "    samples_path = os.path.join(store_path, '{}_samples.json'.format(dataset_name))\n",
    "    samplesInit.to_json(samples_path, orient='records')\n",
    "\n",
    "\n",
    "def get_model_samples(dataset_name, models=['lr', 'knn', 'xgb'], protect_attr=''):\n",
    "    \"\"\"\n",
    "    train model on the training data,\n",
    "    return the generated samples based on the training data\n",
    "    \"\"\"\n",
    "    if os.path.isfile('{}_mdlp.pkl'.format(dataset_name)):\n",
    "        f=open('{}_mdlp.pkl'.format(dataset_name), 'rb')\n",
    "        mdlp = dill.load(f)\n",
    "    else:\n",
    "        raise Exception('no mdlp exists, run init_samples first')\n",
    "        \n",
    "    dataset_path = '../server/{}.csv'.format(dataset_name)\n",
    "    data = pd.read_csv(dataset_path)\n",
    "    \n",
    "    \n",
    "\n",
    "    samples_path = os.path.join(store_path, '{}_samples.json'.format(dataset_name))\n",
    "    samplesInit = pd.read_json(samples_path)\n",
    "    \n",
    "    \n",
    "\n",
    "\n",
    "    \n",
    "    for var in models:\n",
    "        \n",
    "        # set name\n",
    "        model_name = dataset_name+\"_\"+var\n",
    "        model_gene = ModelGene(model_name)\n",
    "    \n",
    "        # train model\n",
    "        model, encoder, score = model_gene.fit_model( num2cate_transform(data, mdlp) )\n",
    "        f = open('./cache/models/model_{}_{}.pkl'.format(var, dataset_name), 'wb')    \n",
    "        pickle.dump(model, f)  \n",
    "        \n",
    "        # general samples\n",
    "    \n",
    "        num_samples, cate_samples = generate_model_samples(samplesInit, mdlp, model, encoder) \n",
    "        \n",
    "        # add the ID col \n",
    "        cate_samples.insert(loc=0, column='id', value= cate_samples.index)\n",
    "        num_samples.insert(loc=0, column='id', value= num_samples.index)\n",
    "        \n",
    "        # save mdeol & samples to cache\n",
    "        dataOut = pd.concat([num_samples,cate_samples])\n",
    "        \n",
    "        samples_path = os.path.join(store_path, '{}_samples.json'.format(model_name))\n",
    "        dataOut.to_json(samples_path, orient='records')\n",
    "\n",
    "        samples_path = os.path.join(store_path, '{}_samples.json'.format(model_name))\n",
    "        dataOut.to_json(samples_path, index=False)\n",
    "        \n",
    "        print(dataset_name + ' ' + var + ' accuracy: ' + str(score))\n",
    "        \n",
    "    print(dataset_name + ' all done')\n",
    "    \n",
    "def get_rules(dataset_name, protect_attr='',model_name=None, min_support = 5):\n",
    "    \n",
    "    model_name = '{}_{}'.format(dataset_name, model_name)\n",
    "    sample_path = os.path.join(store_path, '{}_samples.json'.format(model_name))\n",
    "    model_samples = pd.read_json(sample_path)\n",
    "    model_samples = model_samples.iloc[int(len(model_samples)/2):]\n",
    "    rules = find_rules(model_samples, minimum_support=min_support, min_len=1, protect_attr = protect_attr, target_attr='class', elift_th=[1, 1])\n",
    "\n",
    "    \n",
    "    rules.to_json(store_path + '{}_rules.json'.format(model_name),orient='records')\n",
    "\n",
    "def get_all_rules(protect, models=['xgb','knn','lr'], dataset='adult'):\n",
    "    \n",
    "    for model in models:\n",
    "        get_rules(dataset, protect, model)\n",
    "        get_rules(dataset, protect, model)\n",
    "        get_rules(dataset, protect, model)\n",
    "    for model in models:\n",
    "        sample_name = os.path.join(store_path, dataset + '_' + model + '_samples.json')\n",
    "        rule_name = os.path.join(store_path, dataset + '_' + model + '_rules.json')\n",
    "        samples = pd.read_json(sample_name)\n",
    "\n",
    "        # add item id to rules\n",
    "        def item_within_rule(item, rule_context):\n",
    "            for attr_val in rule_context:\n",
    "                attr, val = attr_val.split('=')\n",
    "                if not item[attr] == val :\n",
    "                    return False\n",
    "            return True\n",
    "\n",
    "        rules = pd.read_json(rule_name)\n",
    "        rules['items'] = ''\n",
    "        for idx, rule in rules.iterrows():\n",
    "            rules.at[idx, 'items'] = [sample['id'] for i,sample in samples.iloc[int(len(samples)/2):].iterrows() if item_within_rule(sample, rule[\"antecedent\"])] \n",
    "        rules.to_json(rule_name, orient='records')\n",
    "\n",
    "        print(dataset+'_'+model+' has done')\n",
    "\n",
    "    print('All finished')\n",
    "\n"
   ]
  },
  {
   "cell_type": "code",
   "execution_count": 7,
   "metadata": {},
   "outputs": [
    {
     "name": "stdout",
     "output_type": "stream",
     "text": [
      "adult svm accuracy: 0.8093239898158519\n",
      "adult lr accuracy: 0.8078908389866524\n",
      "adult knn accuracy: 0.8179639810666528\n",
      "adult dt accuracy: 0.8234511754703175\n",
      "adult rf accuracy: 0.8332786382637953\n",
      "adult xgb accuracy: 0.835551428414055\n",
      "adult all done\n"
     ]
    }
   ],
   "source": [
    "models =['svm', 'lr', 'knn', 'dt', 'rf', 'xgb']\n",
    "dataset = 'adult'\n",
    "init_samples(dataset)\n",
    "get_model_samples(dataset, models)\n"
   ]
  },
  {
   "cell_type": "code",
   "execution_count": 6,
   "metadata": {},
   "outputs": [
    {
     "name": "stdout",
     "output_type": "stream",
     "text": [
      "academic_svm has done\n",
      "academic_lr has done\n",
      "academic_knn has done\n",
      "academic_dt has done\n",
      "academic_rf has done\n",
      "academic_xgb has done\n",
      "All finished\n"
     ]
    }
   ],
   "source": [
    "get_all_rules('gender=F', models, dataset)"
   ]
  },
  {
   "cell_type": "code",
   "execution_count": 12,
   "metadata": {},
   "outputs": [
    {
     "name": "stdout",
     "output_type": "stream",
     "text": [
      "adult xgb accuracy: 0.8351828109761368\n",
      "adult all done\n",
      "adult_xgb has done\n",
      "All finished\n"
     ]
    }
   ],
   "source": [
    "models =['xgb']\n",
    "dataset = 'adult'\n",
    "get_model_samples(dataset, models)\n",
    "get_all_rules('race=Female', models, dataset)"
   ]
  },
  {
   "cell_type": "code",
   "execution_count": 11,
   "metadata": {},
   "outputs": [
    {
     "name": "stdout",
     "output_type": "stream",
     "text": [
      "adult_lr has done\n",
      "adult_xgb has done\n",
      "adult_knn has done\n",
      "adult_rf has done\n",
      "adult_dt has done\n",
      "adult_svm has done\n",
      "All finished\n"
     ]
    }
   ],
   "source": [
    "get_all_rules('race=Black',['lr', 'xgb', 'knn', 'rf', 'dt', 'svm'], 'adult')"
   ]
  },
  {
   "cell_type": "code",
   "execution_count": 5,
   "metadata": {},
   "outputs": [
    {
     "name": "stdout",
     "output_type": "stream",
     "text": [
      "adult gnb accuracy: 0.7715080396470508\n",
      "adult all done\n"
     ]
    }
   ],
   "source": [
    "models =['gnb']\n",
    "dataset = 'adult'\n",
    "get_model_samples(dataset, models)"
   ]
  },
  {
   "cell_type": "markdown",
   "metadata": {},
   "source": [
    "### reject option \n",
    "\n",
    "a post processing method for removing algorithmic discrimination.  \n",
    "For details, please refer to **Decision Theory for Discrimination-Aware Classification, 10.1109/ICDM.2012.45**"
   ]
  },
  {
   "cell_type": "code",
   "execution_count": 168,
   "metadata": {},
   "outputs": [],
   "source": [
    "from sklearn.model_selection import cross_val_score, train_test_split\n",
    "from sklearn.metrics import accuracy_score\n",
    "\n",
    "def predict_post(x_samples, model, theta, samples, group, includes, excludes):\n",
    "    y_samples = model.predict(x_samples)\n",
    "    y_probs = model.predict_proba(x_samples)\n",
    "    y_post_samples = []\n",
    "    \n",
    "    \n",
    "    \n",
    "    for idx, prob in enumerate( y_probs):\n",
    "        is_include = any(\\\n",
    "            (all([ include[1] in samples.iloc[idx][include[0]] \\\n",
    "                  for include in include_group])) \\\n",
    "            for include_group in includes) \\\n",
    "        or len(includes)==0\n",
    "        \n",
    "        is_exclude = all(\\\n",
    "            (all([ exclude[1] not in samples.iloc[idx][exclude[0]] \\\n",
    "                  for exclude in exclude_group])) \\\n",
    "            for exclude_group in excludes) \\\n",
    "            or len(excludes)==0\n",
    "        \n",
    "        \n",
    "        # if in the reject option space, modify label\n",
    "        if max(prob[1], 1- prob[1])<theta \\\n",
    "        and is_include\\\n",
    "        and is_exclude:\n",
    "            if group[1] in samples.iloc[idx][group[0]]:\n",
    "                y_post_samples.append(1)\n",
    "            else: \n",
    "                y_post_samples.append(0)\n",
    "        # else, remain the same\n",
    "        else:\n",
    "            y_post_samples.append(y_samples[idx])\n",
    "    return y_post_samples\n",
    "        \n",
    "\n",
    "def run_reject_option(model_name, dataset_name, theta, group=['gender', 'M'], includes=[[]], excludes=[[]], context=True):\n",
    "#     f = open('./cache/models/model_{}_{}.pkl'.format(model_name, dataset_name), 'rb')    \n",
    "#     model = pickle.load(f)  \n",
    "    \n",
    "    if os.path.isfile('{}_mdlp.pkl'.format(dataset_name)):\n",
    "        f=open('{}_mdlp.pkl'.format(dataset_name), 'rb')\n",
    "        mdlp = dill.load(f)\n",
    "    else:\n",
    "        raise Exception('no mdlp exists, run init_samples first')\n",
    "        \n",
    "    #  training data\n",
    "    dataset_path = '../server/{}.csv'.format(dataset_name)\n",
    "    data = pd.read_csv(dataset_path)\n",
    "    encoder = DataEncoder()\n",
    "    encoder.fit(num2cate_transform(data, mdlp))\n",
    "    x, y = encoder.transform(num2cate_transform(data, mdlp))\n",
    "    \n",
    "#     score_cross = cross_val_score(model, x, y, scoring='accuracy', cv = KFold(n_splits=5, shuffle = True)) \n",
    "#     print('cross valide', score_cross)\n",
    "\n",
    "    \n",
    "#     load the discriminatory region\n",
    "    if context:\n",
    "        f = open(store_path + '{}_{}_default_region.json'.format(model_name, dataset_name),'r')\n",
    "        discri_region = json.load(f)\n",
    "        discri_region = [[a.split('=') for a in i['antecedent']] for i in discri_region]\n",
    "        includes_ = includes + discri_region \n",
    "    else:\n",
    "        includes_ = includes\n",
    "    \n",
    "    k =5\n",
    "    scores = []\n",
    "    kf = KFold(n_splits=k)\n",
    "    kf.get_n_splits(x)\n",
    "\n",
    "    for train_index, test_index in kf.split(x):\n",
    "        x_train, x_test = x[train_index], x[test_index]\n",
    "        y_train, y_test = y[train_index], y[test_index]\n",
    "        \n",
    "        model_gene = ModelGene('{}_{}'.format(dataset_name,model_name))\n",
    "        model = model_gene.model\n",
    "        \n",
    "        model.fit(x_train, y_train)\n",
    "        score = accuracy_score(y_test, model.predict(x_test))\n",
    "        scores.append(score)\n",
    "    print ('score of {}'.format(model_name), sum(scores)/len(scores))\n",
    "    \n",
    "    scores = []\n",
    "    for train_index, test_index in kf.split(x):\n",
    "        x_train, x_test = x[train_index], x[test_index]\n",
    "        y_train, y_test = y[train_index], y[test_index]\n",
    "        \n",
    "        model_gene = ModelGene('{}_{}'.format(dataset_name,model_name))\n",
    "        model = model_gene.model\n",
    "        model.fit(x_train, y_train)\n",
    "        \n",
    "        y_post_test = predict_post(x_test, model, theta, num2cate_transform(data, mdlp), group, includes_, excludes)\n",
    "        score = accuracy_score(y_test, y_post_test)\n",
    "        scores.append(score)\n",
    "    print ('score after roc of {}'.format(model_name), sum(scores)/len(scores))\n",
    "        \n",
    "#     #  for synthetic data, save samples for rules mining\n",
    "#     model_gene = ModelGene('{}_{}'.format(dataset_name,model_name))\n",
    "#     model = model_gene.model\n",
    "#     model.fit(x, y)\n",
    "    \n",
    "    # load model from the memory to avoid randomness\n",
    "    f = open('./cache/models/model_{}_{}.pkl'.format(model_name, dataset_name), 'rb')    \n",
    "    model = pickle.load(f) \n",
    "    \n",
    "        \n",
    "    samples_path = os.path.join(store_path, '{}_samples.json'.format(dataset_name))\n",
    "    samplesInit = pd.read_json(samples_path)\n",
    "    samples = num2cate_transform(samplesInit, mdlp)\n",
    "    x_samples, _ = encoder.transform(samples)\n",
    "    y_samples_post = predict_post(x_samples, model, theta, samples, group, includes_, excludes)\n",
    "    \n",
    "    #  concate post processing result to samples\n",
    "    num_samples = samplesInit.copy()\n",
    "    num_samples['class'] = pd.Series(np.asarray(y_samples_post), index= samples.index) \n",
    "\n",
    "    cate_samples = samples.copy()\n",
    "    cate_samples['class'] = pd.Series(np.asarray(y_samples_post), index= samples.index) \n",
    "    \n",
    "    \n",
    "    # add the ID col \n",
    "    cate_samples.insert(loc=0, column='id', value= cate_samples.index)\n",
    "    num_samples.insert(loc=0, column='id', value= num_samples.index)\n",
    "\n",
    "    # save mdeol & samples to cache\n",
    "    dataOut = pd.concat([num_samples,cate_samples])\n",
    "\n",
    "    samples_path = os.path.join(store_path, '{}_{}_post{}{}_samples.json'.format(dataset_name, model_name, len(includes), len(excludes)))\n",
    "    dataOut.to_json(samples_path, orient='records')\n",
    "\n",
    "    samples_path = os.path.join(store_path, '{}_{}_post{}{}_samples.csv'.format(dataset_name, model_name, len(includes), len(excludes)))\n",
    "    dataOut.to_csv(samples_path, index=False)\n",
    "    "
   ]
  },
  {
   "cell_type": "markdown",
   "metadata": {},
   "source": [
    "## random forest"
   ]
  },
  {
   "cell_type": "code",
   "execution_count": 167,
   "metadata": {},
   "outputs": [
    {
     "name": "stdout",
     "output_type": "stream",
     "text": [
      "score of rf 0.9104166666666668\n",
      "score after roc of rf 0.9041666666666668\n",
      "academic_rf_post00 has done\n",
      "All finished\n"
     ]
    }
   ],
   "source": [
    "# rf_post00 0.78\n",
    "# run_reject_option('rf', 'academic', 0.8, ['gender', 'M'], [], [])\n",
    "# get_all_rules('gender=F', ['rf_post00'], 'academic')\n",
    "\n",
    "\n",
    "# rf_post31 0.90\n",
    "run_reject_option('rf', 'academic', 0.8, \\\n",
    "                  ['gender', 'M'], \\\n",
    "                  [],\\\n",
    "                  []\n",
    "                 )\n",
    "get_all_rules('gender=F', ['rf_post00'], 'academic')\n",
    "\n",
    "# # rf_post11 0.89\n",
    "# run_reject_option('rf', 'academic', 0.8, \\\n",
    "#                   ['gender', 'M'], \\\n",
    "#                   [\\\n",
    "#                    [['raisedhands', '50']], \\\n",
    "#                   ],\\\n",
    "#                   [\\\n",
    "#                    [['Semester', 'S']]\n",
    "#                   ]\n",
    "#                  )\n",
    "\n",
    "\n",
    "# # rf_post21 0.90\n",
    "# run_reject_option('rf', 'academic', 0.8, \\\n",
    "#                   ['gender', 'M'], \\\n",
    "#                   [\\\n",
    "#                    [['raisedhands', '50']], \\\n",
    "#                    [['AnnouncementsView', '66']], \\\n",
    "#                   ],\\\n",
    "#                   [\\\n",
    "#                    [['Semester', 'S']]\n",
    "#                   ]\n",
    "#                  )\n",
    "\n",
    "# rf_post41 0.89\n",
    "# run_reject_option('rf', 'academic', 0.8, \\\n",
    "#                   ['gender', 'M'], \\\n",
    "#                   [\\\n",
    "#                    [['raisedhands', '50']], \\\n",
    "#                    [['raisedhands', '23']], \\\n",
    "#                    [['AnnouncementsView', '66']], \\\n",
    "#                    [['StudentAbsenceDays','Under-7']]  \\\n",
    "#                   ],\\\n",
    "#                   [\\\n",
    "#                    [['Semester', 'S']]\n",
    "#                   ]\n",
    "#                  )\n"
   ]
  },
  {
   "cell_type": "markdown",
   "metadata": {},
   "source": [
    "## KNN"
   ]
  },
  {
   "cell_type": "code",
   "execution_count": 169,
   "metadata": {},
   "outputs": [
    {
     "name": "stdout",
     "output_type": "stream",
     "text": [
      "score of knn 0.8979166666666668\n",
      "score after roc of knn 0.8604166666666668\n",
      "academic_knn_post00 has done\n",
      "All finished\n"
     ]
    }
   ],
   "source": [
    "# run_reject_option('knn', 'academic', 0.8, [['gender', 'M'], ['StudentAbsenceDays', 'Above-7']])\n",
    "# run_reject_option('knn', 'academic', 0.8, [['gender', 'M'],  ['VisITedResources', '15']])\n",
    "\n",
    "\n",
    "# # knn_post00 0.860\n",
    "context = True\n",
    "run_reject_option('knn', 'academic', 0.8, ['gender', 'M'], [], [], context)\n",
    "get_all_rules('gender=F', ['knn_post00'], 'academic')\n",
    "\n",
    "\n",
    "\n",
    "\n",
    "# # knn_post41 0.9\n",
    "# run_reject_option('knn', 'academic', 0.8, \\\n",
    "#                   ['gender', 'M'], \\\n",
    "#                   [\\\n",
    "#                    [['raisedhands', '50']], \\\n",
    "#                    [['raisedhands', '23']], \\\n",
    "#                    [['AnnouncementsView', '66']], \\\n",
    "#                    [['StudentAbsenceDays','Under-7']]  \\\n",
    "#                   ],\\\n",
    "#                   [\\\n",
    "#                    [['StudentAbsenceDays','Above-7'], ['raisedhands', 'x>50'], ['AnnouncementsView', '10'], ['Relation','Father']]\n",
    "#                   ]\n",
    "#                  )\n",
    "\n",
    "# # # knn_post11 0.875\n",
    "# run_reject_option('knn', 'academic', 0.8, \\\n",
    "#                   ['gender', 'M'], \\\n",
    "#                   [\\\n",
    "#                    [['StudentAbsenceDays','Above-7']],  \\\n",
    "#                    [['raisedhands', '23']],\\\n",
    "#                    [['AnnouncementsView', '20']]\\\n",
    "#                   ],\\\n",
    "#                   [\\\n",
    "# #                    [ ['AnnouncementsView', '10']]\\\n",
    "#                    [['raisedhands', '50'], ['AnnouncementsView', '10']]\\\n",
    "#                   ]\n",
    "#                  )\n",
    "\n",
    "# get_all_rules('gender=F', ['knn_post31'], 'academic')"
   ]
  },
  {
   "cell_type": "markdown",
   "metadata": {},
   "source": [
    "## Decision Tree"
   ]
  },
  {
   "cell_type": "code",
   "execution_count": 171,
   "metadata": {},
   "outputs": [
    {
     "name": "stdout",
     "output_type": "stream",
     "text": [
      "score of dt 0.8895833333333334\n",
      "score after roc of dt 0.8895833333333334\n"
     ]
    },
    {
     "ename": "KeyboardInterrupt",
     "evalue": "",
     "output_type": "error",
     "traceback": [
      "\u001b[0;31m---------------------------------------------------------------------------\u001b[0m",
      "\u001b[0;31mKeyboardInterrupt\u001b[0m                         Traceback (most recent call last)",
      "\u001b[0;32m<ipython-input-171-8288e76270d0>\u001b[0m in \u001b[0;36m<module>\u001b[0;34m\u001b[0m\n\u001b[1;32m      8\u001b[0m                   \u001b[0;32mTrue\u001b[0m\u001b[0;34m\u001b[0m\u001b[0m\n\u001b[1;32m      9\u001b[0m                  )\n\u001b[0;32m---> 10\u001b[0;31m \u001b[0mget_all_rules\u001b[0m\u001b[0;34m(\u001b[0m\u001b[0;34m'gender=F'\u001b[0m\u001b[0;34m,\u001b[0m \u001b[0;34m[\u001b[0m\u001b[0;34m'dt_post00'\u001b[0m\u001b[0;34m]\u001b[0m\u001b[0;34m,\u001b[0m \u001b[0;34m'academic'\u001b[0m\u001b[0;34m)\u001b[0m\u001b[0;34m\u001b[0m\u001b[0m\n\u001b[0m",
      "\u001b[0;32m<ipython-input-87-62172a540562>\u001b[0m in \u001b[0;36mget_all_rules\u001b[0;34m(protect, models, dataset)\u001b[0m\n\u001b[1;32m    100\u001b[0m \u001b[0;34m\u001b[0m\u001b[0m\n\u001b[1;32m    101\u001b[0m     \u001b[0;32mfor\u001b[0m \u001b[0mmodel\u001b[0m \u001b[0;32min\u001b[0m \u001b[0mmodels\u001b[0m\u001b[0;34m:\u001b[0m\u001b[0;34m\u001b[0m\u001b[0m\n\u001b[0;32m--> 102\u001b[0;31m         \u001b[0mget_rules\u001b[0m\u001b[0;34m(\u001b[0m\u001b[0mdataset\u001b[0m\u001b[0;34m,\u001b[0m \u001b[0mprotect\u001b[0m\u001b[0;34m,\u001b[0m \u001b[0mmodel\u001b[0m\u001b[0;34m)\u001b[0m\u001b[0;34m\u001b[0m\u001b[0m\n\u001b[0m\u001b[1;32m    103\u001b[0m         \u001b[0mget_rules\u001b[0m\u001b[0;34m(\u001b[0m\u001b[0mdataset\u001b[0m\u001b[0;34m,\u001b[0m \u001b[0mprotect\u001b[0m\u001b[0;34m,\u001b[0m \u001b[0mmodel\u001b[0m\u001b[0;34m)\u001b[0m\u001b[0;34m\u001b[0m\u001b[0m\n\u001b[1;32m    104\u001b[0m         \u001b[0mget_rules\u001b[0m\u001b[0;34m(\u001b[0m\u001b[0mdataset\u001b[0m\u001b[0;34m,\u001b[0m \u001b[0mprotect\u001b[0m\u001b[0;34m,\u001b[0m \u001b[0mmodel\u001b[0m\u001b[0;34m)\u001b[0m\u001b[0;34m\u001b[0m\u001b[0m\n",
      "\u001b[0;32m<ipython-input-87-62172a540562>\u001b[0m in \u001b[0;36mget_rules\u001b[0;34m(dataset_name, protect_attr, model_name, min_support)\u001b[0m\n\u001b[1;32m     92\u001b[0m     \u001b[0mmodel_samples\u001b[0m \u001b[0;34m=\u001b[0m \u001b[0mpd\u001b[0m\u001b[0;34m.\u001b[0m\u001b[0mread_json\u001b[0m\u001b[0;34m(\u001b[0m\u001b[0msample_path\u001b[0m\u001b[0;34m)\u001b[0m\u001b[0;34m\u001b[0m\u001b[0m\n\u001b[1;32m     93\u001b[0m     \u001b[0mmodel_samples\u001b[0m \u001b[0;34m=\u001b[0m \u001b[0mmodel_samples\u001b[0m\u001b[0;34m.\u001b[0m\u001b[0miloc\u001b[0m\u001b[0;34m[\u001b[0m\u001b[0mint\u001b[0m\u001b[0;34m(\u001b[0m\u001b[0mlen\u001b[0m\u001b[0;34m(\u001b[0m\u001b[0mmodel_samples\u001b[0m\u001b[0;34m)\u001b[0m\u001b[0;34m/\u001b[0m\u001b[0;36m2\u001b[0m\u001b[0;34m)\u001b[0m\u001b[0;34m:\u001b[0m\u001b[0;34m]\u001b[0m\u001b[0;34m\u001b[0m\u001b[0m\n\u001b[0;32m---> 94\u001b[0;31m     \u001b[0mrules\u001b[0m \u001b[0;34m=\u001b[0m \u001b[0mfind_rules\u001b[0m\u001b[0;34m(\u001b[0m\u001b[0mmodel_samples\u001b[0m\u001b[0;34m,\u001b[0m \u001b[0mminimum_support\u001b[0m\u001b[0;34m=\u001b[0m\u001b[0mmin_support\u001b[0m\u001b[0;34m,\u001b[0m \u001b[0mmin_len\u001b[0m\u001b[0;34m=\u001b[0m\u001b[0;36m1\u001b[0m\u001b[0;34m,\u001b[0m \u001b[0mprotect_attr\u001b[0m \u001b[0;34m=\u001b[0m \u001b[0mprotect_attr\u001b[0m\u001b[0;34m,\u001b[0m \u001b[0mtarget_attr\u001b[0m\u001b[0;34m=\u001b[0m\u001b[0;34m'class'\u001b[0m\u001b[0;34m,\u001b[0m \u001b[0melift_th\u001b[0m\u001b[0;34m=\u001b[0m\u001b[0;34m[\u001b[0m\u001b[0;36m1\u001b[0m\u001b[0;34m,\u001b[0m \u001b[0;36m1\u001b[0m\u001b[0;34m]\u001b[0m\u001b[0;34m)\u001b[0m\u001b[0;34m\u001b[0m\u001b[0m\n\u001b[0m\u001b[1;32m     95\u001b[0m \u001b[0;34m\u001b[0m\u001b[0m\n\u001b[1;32m     96\u001b[0m \u001b[0;34m\u001b[0m\u001b[0m\n",
      "\u001b[0;32m~/Documents/git_repo/discrimination_in_ML/py/server/model/mine_rule.py\u001b[0m in \u001b[0;36mfind_rules\u001b[0;34m(df, minimum_support, min_len, protect_attr, target_attr, risk_th, elift_th)\u001b[0m\n\u001b[1;32m     50\u001b[0m     \u001b[0;32mfor\u001b[0m \u001b[0mpair\u001b[0m \u001b[0;32min\u001b[0m \u001b[0mfind_freq_itemsets\u001b[0m\u001b[0;34m(\u001b[0m\u001b[0mtransactions\u001b[0m\u001b[0;34m,\u001b[0m \u001b[0mminimum_support\u001b[0m\u001b[0;34m,\u001b[0m \u001b[0mmin_len\u001b[0m\u001b[0;34m,\u001b[0m \u001b[0mprotect_attr\u001b[0m\u001b[0;34m,\u001b[0m \u001b[0mtarget_attr\u001b[0m\u001b[0;34m)\u001b[0m\u001b[0;34m:\u001b[0m\u001b[0;34m\u001b[0m\u001b[0m\n\u001b[1;32m     51\u001b[0m         \u001b[0;32mif\u001b[0m \u001b[0mpair\u001b[0m\u001b[0;34m[\u001b[0m\u001b[0;36m0\u001b[0m\u001b[0;34m]\u001b[0m\u001b[0;34m==\u001b[0m\u001b[0;34m'cls_pair'\u001b[0m\u001b[0;34m:\u001b[0m\u001b[0;34m\u001b[0m\u001b[0m\n\u001b[0;32m---> 52\u001b[0;31m             \u001b[0mcls_pairs\u001b[0m\u001b[0;34m.\u001b[0m\u001b[0mloc\u001b[0m\u001b[0;34m[\u001b[0m\u001b[0mlen\u001b[0m\u001b[0;34m(\u001b[0m\u001b[0mcls_pairs\u001b[0m\u001b[0;34m)\u001b[0m\u001b[0;34m]\u001b[0m \u001b[0;34m=\u001b[0m \u001b[0mlist\u001b[0m\u001b[0;34m(\u001b[0m\u001b[0mpair\u001b[0m\u001b[0;34m[\u001b[0m\u001b[0;36m1\u001b[0m\u001b[0;34m:\u001b[0m\u001b[0;34m]\u001b[0m\u001b[0;34m)\u001b[0m\u001b[0;34m\u001b[0m\u001b[0m\n\u001b[0m\u001b[1;32m     53\u001b[0m         \u001b[0;32melif\u001b[0m \u001b[0mpair\u001b[0m\u001b[0;34m[\u001b[0m\u001b[0;36m0\u001b[0m\u001b[0;34m]\u001b[0m \u001b[0;34m==\u001b[0m \u001b[0;34m'pd_pair'\u001b[0m\u001b[0;34m:\u001b[0m\u001b[0;34m\u001b[0m\u001b[0m\n\u001b[1;32m     54\u001b[0m             \u001b[0mpd_pairs\u001b[0m\u001b[0;34m.\u001b[0m\u001b[0mloc\u001b[0m\u001b[0;34m[\u001b[0m\u001b[0mlen\u001b[0m\u001b[0;34m(\u001b[0m\u001b[0mpd_pairs\u001b[0m\u001b[0;34m)\u001b[0m\u001b[0;34m]\u001b[0m \u001b[0;34m=\u001b[0m \u001b[0mlist\u001b[0m\u001b[0;34m(\u001b[0m\u001b[0mpair\u001b[0m\u001b[0;34m[\u001b[0m\u001b[0;36m1\u001b[0m\u001b[0;34m:\u001b[0m\u001b[0;34m]\u001b[0m\u001b[0;34m)\u001b[0m\u001b[0;34m\u001b[0m\u001b[0m\n",
      "\u001b[0;32m~/Documents/git_repo/discrimination_in_ML/py/myenv/lib/python3.6/site-packages/pandas/core/indexing.py\u001b[0m in \u001b[0;36m__setitem__\u001b[0;34m(self, key, value)\u001b[0m\n\u001b[1;32m    187\u001b[0m             \u001b[0mkey\u001b[0m \u001b[0;34m=\u001b[0m \u001b[0mcom\u001b[0m\u001b[0;34m.\u001b[0m\u001b[0m_apply_if_callable\u001b[0m\u001b[0;34m(\u001b[0m\u001b[0mkey\u001b[0m\u001b[0;34m,\u001b[0m \u001b[0mself\u001b[0m\u001b[0;34m.\u001b[0m\u001b[0mobj\u001b[0m\u001b[0;34m)\u001b[0m\u001b[0;34m\u001b[0m\u001b[0m\n\u001b[1;32m    188\u001b[0m         \u001b[0mindexer\u001b[0m \u001b[0;34m=\u001b[0m \u001b[0mself\u001b[0m\u001b[0;34m.\u001b[0m\u001b[0m_get_setitem_indexer\u001b[0m\u001b[0;34m(\u001b[0m\u001b[0mkey\u001b[0m\u001b[0;34m)\u001b[0m\u001b[0;34m\u001b[0m\u001b[0m\n\u001b[0;32m--> 189\u001b[0;31m         \u001b[0mself\u001b[0m\u001b[0;34m.\u001b[0m\u001b[0m_setitem_with_indexer\u001b[0m\u001b[0;34m(\u001b[0m\u001b[0mindexer\u001b[0m\u001b[0;34m,\u001b[0m \u001b[0mvalue\u001b[0m\u001b[0;34m)\u001b[0m\u001b[0;34m\u001b[0m\u001b[0m\n\u001b[0m\u001b[1;32m    190\u001b[0m \u001b[0;34m\u001b[0m\u001b[0m\n\u001b[1;32m    191\u001b[0m     \u001b[0;32mdef\u001b[0m \u001b[0m_validate_key\u001b[0m\u001b[0;34m(\u001b[0m\u001b[0mself\u001b[0m\u001b[0;34m,\u001b[0m \u001b[0mkey\u001b[0m\u001b[0;34m,\u001b[0m \u001b[0maxis\u001b[0m\u001b[0;34m)\u001b[0m\u001b[0;34m:\u001b[0m\u001b[0;34m\u001b[0m\u001b[0m\n",
      "\u001b[0;32m~/Documents/git_repo/discrimination_in_ML/py/myenv/lib/python3.6/site-packages/pandas/core/indexing.py\u001b[0m in \u001b[0;36m_setitem_with_indexer\u001b[0;34m(self, indexer, value)\u001b[0m\n\u001b[1;32m    449\u001b[0m                                        name=indexer)\n\u001b[1;32m    450\u001b[0m \u001b[0;34m\u001b[0m\u001b[0m\n\u001b[0;32m--> 451\u001b[0;31m                     \u001b[0mself\u001b[0m\u001b[0;34m.\u001b[0m\u001b[0mobj\u001b[0m\u001b[0;34m.\u001b[0m\u001b[0m_data\u001b[0m \u001b[0;34m=\u001b[0m \u001b[0mself\u001b[0m\u001b[0;34m.\u001b[0m\u001b[0mobj\u001b[0m\u001b[0;34m.\u001b[0m\u001b[0mappend\u001b[0m\u001b[0;34m(\u001b[0m\u001b[0mvalue\u001b[0m\u001b[0;34m)\u001b[0m\u001b[0;34m.\u001b[0m\u001b[0m_data\u001b[0m\u001b[0;34m\u001b[0m\u001b[0m\n\u001b[0m\u001b[1;32m    452\u001b[0m                     \u001b[0mself\u001b[0m\u001b[0;34m.\u001b[0m\u001b[0mobj\u001b[0m\u001b[0;34m.\u001b[0m\u001b[0m_maybe_update_cacher\u001b[0m\u001b[0;34m(\u001b[0m\u001b[0mclear\u001b[0m\u001b[0;34m=\u001b[0m\u001b[0;32mTrue\u001b[0m\u001b[0;34m)\u001b[0m\u001b[0;34m\u001b[0m\u001b[0m\n\u001b[1;32m    453\u001b[0m                     \u001b[0;32mreturn\u001b[0m \u001b[0mself\u001b[0m\u001b[0;34m.\u001b[0m\u001b[0mobj\u001b[0m\u001b[0;34m\u001b[0m\u001b[0m\n",
      "\u001b[0;32m~/Documents/git_repo/discrimination_in_ML/py/myenv/lib/python3.6/site-packages/pandas/core/frame.py\u001b[0m in \u001b[0;36mappend\u001b[0;34m(self, other, ignore_index, verify_integrity, sort)\u001b[0m\n\u001b[1;32m   6194\u001b[0m                               \u001b[0mindex\u001b[0m\u001b[0;34m=\u001b[0m\u001b[0mindex\u001b[0m\u001b[0;34m,\u001b[0m\u001b[0;34m\u001b[0m\u001b[0m\n\u001b[1;32m   6195\u001b[0m                               columns=combined_columns)\n\u001b[0;32m-> 6196\u001b[0;31m             \u001b[0mother\u001b[0m \u001b[0;34m=\u001b[0m \u001b[0mother\u001b[0m\u001b[0;34m.\u001b[0m\u001b[0m_convert\u001b[0m\u001b[0;34m(\u001b[0m\u001b[0mdatetime\u001b[0m\u001b[0;34m=\u001b[0m\u001b[0;32mTrue\u001b[0m\u001b[0;34m,\u001b[0m \u001b[0mtimedelta\u001b[0m\u001b[0;34m=\u001b[0m\u001b[0;32mTrue\u001b[0m\u001b[0;34m)\u001b[0m\u001b[0;34m\u001b[0m\u001b[0m\n\u001b[0m\u001b[1;32m   6197\u001b[0m             \u001b[0;32mif\u001b[0m \u001b[0;32mnot\u001b[0m \u001b[0mself\u001b[0m\u001b[0;34m.\u001b[0m\u001b[0mcolumns\u001b[0m\u001b[0;34m.\u001b[0m\u001b[0mequals\u001b[0m\u001b[0;34m(\u001b[0m\u001b[0mcombined_columns\u001b[0m\u001b[0;34m)\u001b[0m\u001b[0;34m:\u001b[0m\u001b[0;34m\u001b[0m\u001b[0m\n\u001b[1;32m   6198\u001b[0m                 \u001b[0mself\u001b[0m \u001b[0;34m=\u001b[0m \u001b[0mself\u001b[0m\u001b[0;34m.\u001b[0m\u001b[0mreindex\u001b[0m\u001b[0;34m(\u001b[0m\u001b[0mcolumns\u001b[0m\u001b[0;34m=\u001b[0m\u001b[0mcombined_columns\u001b[0m\u001b[0;34m)\u001b[0m\u001b[0;34m\u001b[0m\u001b[0m\n",
      "\u001b[0;32m~/Documents/git_repo/discrimination_in_ML/py/myenv/lib/python3.6/site-packages/pandas/core/generic.py\u001b[0m in \u001b[0;36m_convert\u001b[0;34m(self, datetime, numeric, timedelta, coerce, copy)\u001b[0m\n\u001b[1;32m   5152\u001b[0m             self._data.convert(datetime=datetime, numeric=numeric,\n\u001b[1;32m   5153\u001b[0m                                \u001b[0mtimedelta\u001b[0m\u001b[0;34m=\u001b[0m\u001b[0mtimedelta\u001b[0m\u001b[0;34m,\u001b[0m \u001b[0mcoerce\u001b[0m\u001b[0;34m=\u001b[0m\u001b[0mcoerce\u001b[0m\u001b[0;34m,\u001b[0m\u001b[0;34m\u001b[0m\u001b[0m\n\u001b[0;32m-> 5154\u001b[0;31m                                copy=copy)).__finalize__(self)\n\u001b[0m\u001b[1;32m   5155\u001b[0m \u001b[0;34m\u001b[0m\u001b[0m\n\u001b[1;32m   5156\u001b[0m     def convert_objects(self, convert_dates=True, convert_numeric=False,\n",
      "\u001b[0;32m~/Documents/git_repo/discrimination_in_ML/py/myenv/lib/python3.6/site-packages/pandas/core/internals.py\u001b[0m in \u001b[0;36mconvert\u001b[0;34m(self, **kwargs)\u001b[0m\n\u001b[1;32m   3714\u001b[0m         \u001b[0;32mreturn\u001b[0m \u001b[0mself\u001b[0m\u001b[0;34m.\u001b[0m\u001b[0mapply\u001b[0m\u001b[0;34m(\u001b[0m\u001b[0;34m'astype'\u001b[0m\u001b[0;34m,\u001b[0m \u001b[0mdtype\u001b[0m\u001b[0;34m=\u001b[0m\u001b[0mdtype\u001b[0m\u001b[0;34m,\u001b[0m \u001b[0;34m**\u001b[0m\u001b[0mkwargs\u001b[0m\u001b[0;34m)\u001b[0m\u001b[0;34m\u001b[0m\u001b[0m\n\u001b[1;32m   3715\u001b[0m \u001b[0;34m\u001b[0m\u001b[0m\n\u001b[0;32m-> 3716\u001b[0;31m     \u001b[0;32mdef\u001b[0m \u001b[0mconvert\u001b[0m\u001b[0;34m(\u001b[0m\u001b[0mself\u001b[0m\u001b[0;34m,\u001b[0m \u001b[0;34m**\u001b[0m\u001b[0mkwargs\u001b[0m\u001b[0;34m)\u001b[0m\u001b[0;34m:\u001b[0m\u001b[0;34m\u001b[0m\u001b[0m\n\u001b[0m\u001b[1;32m   3717\u001b[0m         \u001b[0;32mreturn\u001b[0m \u001b[0mself\u001b[0m\u001b[0;34m.\u001b[0m\u001b[0mapply\u001b[0m\u001b[0;34m(\u001b[0m\u001b[0;34m'convert'\u001b[0m\u001b[0;34m,\u001b[0m \u001b[0;34m**\u001b[0m\u001b[0mkwargs\u001b[0m\u001b[0;34m)\u001b[0m\u001b[0;34m\u001b[0m\u001b[0m\n\u001b[1;32m   3718\u001b[0m \u001b[0;34m\u001b[0m\u001b[0m\n",
      "\u001b[0;31mKeyboardInterrupt\u001b[0m: "
     ]
    }
   ],
   "source": [
    "#  dt_post0 original reject option, 0.808\n",
    "# dt_post00 context reject option\n",
    "\n",
    "run_reject_option('dt', 'academic', 0.9, \\\n",
    "                  ['gender', 'M'], \\\n",
    "                  [],\\\n",
    "                  [],\\\n",
    "                  True\n",
    "                 )\n",
    "get_all_rules('gender=F', ['dt_post00'], 'academic')"
   ]
  },
  {
   "cell_type": "code",
   "execution_count": 73,
   "metadata": {},
   "outputs": [
    {
     "data": {
      "text/plain": [
       "False"
      ]
     },
     "execution_count": 73,
     "metadata": {},
     "output_type": "execute_result"
    }
   ],
   "source": [
    "any([[] for i in []])"
   ]
  },
  {
   "cell_type": "code",
   "execution_count": null,
   "metadata": {},
   "outputs": [],
   "source": []
  }
 ],
 "metadata": {
  "kernelspec": {
   "display_name": "Python 3",
   "language": "python",
   "name": "python3"
  },
  "language_info": {
   "codemirror_mode": {
    "name": "ipython",
    "version": 3
   },
   "file_extension": ".py",
   "mimetype": "text/x-python",
   "name": "python",
   "nbconvert_exporter": "python",
   "pygments_lexer": "ipython3",
   "version": "3.6.5"
  }
 },
 "nbformat": 4,
 "nbformat_minor": 2
}
