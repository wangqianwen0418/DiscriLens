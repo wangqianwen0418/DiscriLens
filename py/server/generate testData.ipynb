{
 "cells": [
  {
   "cell_type": "code",
   "execution_count": 1,
   "metadata": {},
   "outputs": [],
   "source": [
    "\n",
    "import os\n",
    "import pandas as pd\n",
    "import json\n",
    "\n",
    "from model import num2cate_fit, num2cate_transform, generate_samples, generate_model_samples, ModelGene, findKeyAttrs, FindGroups, get_numAttrs, find_rules\n",
    "from model.samples import DataGene\n",
    "from model.data_encoder import DataEncoder\n",
    "from joblib import dump, load\n",
    "\n",
    "import dill\n",
    "import pickle\n",
    "import warnings\n",
    "warnings.filterwarnings('ignore')\n"
   ]
  },
  {
   "cell_type": "code",
   "execution_count": 2,
   "metadata": {
    "scrolled": true
   },
   "outputs": [],
   "source": [
    "\n",
    "\n",
    "store_path = '../../front/src/testdata/'\n",
    "\n",
    "\n",
    "def get_rules(dataset_name, protect_attr='',model_name=None):\n",
    "    \n",
    "    model_name = '{}_{}'.format(dataset_name, model_name)\n",
    "    sample_path = os.path.join(store_path, '{}_samples.csv'.format(model_name))\n",
    "    model_samples = pd.read_csv(sample_path)\n",
    "    model_samples = model_samples.iloc[int(len(model_samples)/2):]\n",
    "    rules = find_rules(model_samples, minimum_support=5, min_len=1, protect_attr = protect_attr, target_attr='class', elift_th=[1, 1])\n",
    "\n",
    "    \n",
    "    rules.to_json(store_path + '{}_rules.json'.format(model_name),orient='records')\n",
    "    \n",
    "    \n",
    "def init_samples(dataset_name, find_key=False):\n",
    "    sample_num = 1000 # number of generated data \n",
    "    dataset_path = '../server/{}.csv'.format(dataset_name)\n",
    "    data = pd.read_csv(dataset_path)\n",
    "    \n",
    "    mdlp = num2cate_fit(data, 2)\n",
    "    \n",
    "    if find_key:\n",
    "        # find key_attrs\n",
    "        key_attrs = findKeyAttrs(num2cate_transform(data, mdlp))\n",
    "        f = open(store_path + '{}_key.json'.format(dataset_name),'w')\n",
    "        json.dump(key_attrs, f)\n",
    "    \n",
    "    #  save mdelp\n",
    "    f=open('{}_mdlp.pkl'.format(dataset_name), 'wb')\n",
    "    dill.dump(mdlp, f, -1)\n",
    "    \n",
    "    \n",
    "    # generate samples\n",
    "    samplesInit = generate_samples(data, sample_num)\n",
    "    samples_path = os.path.join(store_path, '{}_samples.json'.format(dataset_name))\n",
    "    samplesInit.to_json(samples_path, orient='records')\n",
    "\n",
    "\n",
    "def get_model_samples(dataset_name, models=['lr', 'knn', 'xgb'], protect_attr=''):\n",
    "    \"\"\"\n",
    "    train model on the training data,\n",
    "    return the generated samples based on the training data\n",
    "    \"\"\"\n",
    "    if os.path.isfile('{}_mdlp.pkl'.format(dataset_name)):\n",
    "        f=open('{}_mdlp.pkl'.format(dataset_name), 'rb')\n",
    "        mdlp = dill.load(f)\n",
    "    else:\n",
    "        raise Exception('no mdlp exists, run init_samples first')\n",
    "        \n",
    "    dataset_path = '../server/{}.csv'.format(dataset_name)\n",
    "    data = pd.read_csv(dataset_path)\n",
    "    \n",
    "    \n",
    "\n",
    "    samples_path = os.path.join(store_path, '{}_samples.json'.format(dataset_name))\n",
    "    samplesInit = pd.read_json(samples_path)\n",
    "    \n",
    "    \n",
    "\n",
    "\n",
    "    \n",
    "    for var in models:\n",
    "        \n",
    "        # set name\n",
    "        model_name = dataset_name+\"_\"+var\n",
    "        model_gene = ModelGene(model_name)\n",
    "    \n",
    "        # train model\n",
    "        model, encoder, score = model_gene.fit_model( num2cate_transform(data, mdlp) )\n",
    "        f = open('./cache/models/model_{}_{}.pkl'.format(var, dataset_name), 'wb')    \n",
    "        pickle.dump(model, f)  \n",
    "        \n",
    "        # general samples\n",
    "    \n",
    "        num_samples, cate_samples = generate_model_samples(samplesInit, mdlp, model, encoder) \n",
    "        \n",
    "        # add the ID col \n",
    "        cate_samples.insert(loc=0, column='id', value= cate_samples.index)\n",
    "        num_samples.insert(loc=0, column='id', value= num_samples.index)\n",
    "        \n",
    "        # save mdeol & samples to cache\n",
    "        dataOut = pd.concat([num_samples,cate_samples])\n",
    "        \n",
    "        samples_path = os.path.join(store_path, '{}_samples.json'.format(model_name))\n",
    "        dataOut.to_json(samples_path, orient='records')\n",
    "\n",
    "        samples_path = os.path.join(store_path, '{}_samples.csv'.format(model_name))\n",
    "        dataOut.to_csv(samples_path, index=False)\n",
    "        \n",
    "        print(dataset_name + ' ' + var + ' accuracy: ' + str(score))\n",
    "        \n",
    "    print(dataset_name + ' all done')\n",
    "\n",
    "def get_all_rules(protect, models=['xgb','knn','lr'], dataset='adult'):\n",
    "    \n",
    "    for model in models:\n",
    "        get_rules(dataset, protect, model)\n",
    "        get_rules(dataset, protect, model)\n",
    "        get_rules(dataset, protect, model)\n",
    "    for model in models:\n",
    "        sample_name = os.path.join(store_path, dataset + '_' + model + '_samples.json')\n",
    "        rule_name = os.path.join(store_path, dataset + '_' + model + '_rules.json')\n",
    "        samples = pd.read_json(sample_name)\n",
    "\n",
    "        # add item id to rules\n",
    "        def item_within_rule(item, rule_context):\n",
    "            for attr_val in rule_context:\n",
    "                attr, val = attr_val.split('=')\n",
    "                if not item[attr] == val :\n",
    "                    return False\n",
    "            return True\n",
    "\n",
    "        rules = pd.read_json(rule_name)\n",
    "        rules['items'] = ''\n",
    "        for idx, rule in rules.iterrows():\n",
    "            rules.at[idx, 'items'] = [sample['id'] for i,sample in samples.iloc[int(len(samples)/2):].iterrows() if item_within_rule(sample, rule[\"antecedent\"])] \n",
    "        rules.to_json(rule_name, orient='records')\n",
    "\n",
    "        print(dataset+'_'+model+' has done')\n",
    "\n",
    "    print('All finished')\n",
    "\n"
   ]
  },
  {
   "cell_type": "code",
   "execution_count": 3,
   "metadata": {},
   "outputs": [
    {
     "name": "stdout",
     "output_type": "stream",
     "text": [
      "academic svm accuracy: 0.9001659432085367\n",
      "academic lr accuracy: 0.904289654548743\n",
      "academic knn accuracy: 0.8878605986616025\n",
      "academic dt accuracy: 0.9022716585277628\n",
      "academic rf accuracy: 0.8981479471875564\n",
      "academic xgb accuracy: 0.9044207813347802\n",
      "academic all done\n"
     ]
    }
   ],
   "source": [
    "models =['svm', 'lr', 'knn', 'dt', 'rf', 'xgb']\n",
    "dataset = 'academic'\n",
    "init_samples(dataset)\n",
    "get_model_samples(dataset, models)\n"
   ]
  },
  {
   "cell_type": "code",
   "execution_count": 4,
   "metadata": {},
   "outputs": [
    {
     "name": "stdout",
     "output_type": "stream",
     "text": [
      "academic_svm has done\n",
      "academic_lr has done\n",
      "academic_knn has done\n",
      "academic_dt has done\n",
      "academic_rf has done\n",
      "academic_xgb has done\n",
      "All finished\n"
     ]
    }
   ],
   "source": [
    "get_all_rules('gender=F', models, dataset)"
   ]
  },
  {
   "cell_type": "code",
   "execution_count": null,
   "metadata": {},
   "outputs": [],
   "source": [
    "dataset_name = 'academic'\n",
    "\n",
    "f=open('{}.pkl'.format('academic'), 'rb')\n",
    "mdlp = dill.load(f)\n",
    "dataset_path = '../server/{}.csv'.format(dataset_name)\n",
    "data = pd.read_csv(dataset_path)\n",
    "num2cate_transform(data, mdlp)"
   ]
  },
  {
   "cell_type": "code",
   "execution_count": null,
   "metadata": {},
   "outputs": [],
   "source": [
    "import pandas as pd\n",
    "\n",
    "\n",
    "df = pd.read_csv('german_credit.csv')\n",
    "\n",
    "df['gender'] = ''\n",
    "df['status'] = ''\n",
    "\n",
    "for i,d in df.iterrows():\n",
    "    df.at[i,'gender'] = df.at[i,'personal_status'].split(' ')[0]\n",
    "    df.at[i,'status'] = df.at[i,'personal_status'].split(' ')[1]\n",
    "df.drop(['personal_status'],axis=1)\n",
    "df.to_csv('german_credit.csv',index=False)"
   ]
  },
  {
   "cell_type": "code",
   "execution_count": null,
   "metadata": {},
   "outputs": [],
   "source": [
    "'''explore the number of samples for each rules'''\n",
    "import pandas as pd\n",
    "\n",
    "df = pd.read_json('academic_knn_rules.json')\n",
    "df = pd.DataFrame(df)\n",
    "for i,d in df.iterrows():\n",
    "    print(df.at[i,'antecedent'])\n",
    "    if(df.at[i,'antecedent']==['StudentAbsenceDays=Under-7', 'raisedhands=0<x<25', 'Discussion=1<x<25']):\n",
    "        print(df.at[i,'id'])"
   ]
  },
  {
   "cell_type": "code",
   "execution_count": null,
   "metadata": {},
   "outputs": [],
   "source": [
    "samples = pd.read_json(os.path.join(store_path, '{}_samples.json'.format('academic')))\n",
    "samples.iloc[int(len(samples)/2):]"
   ]
  },
  {
   "cell_type": "code",
   "execution_count": null,
   "metadata": {},
   "outputs": [],
   "source": [
    "dataset_name = 'adult'\n",
    "dataset_path = '../server/{}.csv'.format(dataset_name)\n",
    "data = pd.read_csv(dataset_path)\n",
    "\n",
    "mdlp = num2cate_fit(data, 2)\n",
    "num2cate_transform(data, mdlp)"
   ]
  },
  {
   "cell_type": "code",
   "execution_count": null,
   "metadata": {},
   "outputs": [],
   "source": []
  }
 ],
 "metadata": {
  "kernelspec": {
   "display_name": "Python 3",
   "language": "python",
   "name": "python3"
  },
  "language_info": {
   "codemirror_mode": {
    "name": "ipython",
    "version": 3
   },
   "file_extension": ".py",
   "mimetype": "text/x-python",
   "name": "python",
   "nbconvert_exporter": "python",
   "pygments_lexer": "ipython3",
   "version": "3.6.5"
  }
 },
 "nbformat": 4,
 "nbformat_minor": 2
}
