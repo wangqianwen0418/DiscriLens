{
 "cells": [
  {
   "cell_type": "code",
   "execution_count": 1,
   "metadata": {},
   "outputs": [],
   "source": [
    "\n",
    "import os\n",
    "import pandas as pd\n",
    "import json\n",
    "\n",
    "from model import num2cate_fit, num2cate_transform, generate_samples, generate_model_samples, ModelGene, findKeyAttrs, FindGroups, get_numAttrs, find_rules\n",
    "from model.samples import DataGene\n",
    "from model.data_encoder import DataEncoder\n",
    "from joblib import dump, load\n"
   ]
  },
  {
   "cell_type": "code",
   "execution_count": 2,
   "metadata": {
    "scrolled": true
   },
   "outputs": [],
   "source": [
    "\n",
    "\n",
    "store_path = '../../front/src/testdata/'\n",
    "\n",
    "\n",
    "def get_rules(dataset_name, protect_attr='',model_name=None):\n",
    "    \n",
    "    model_name = '{}_{}'.format(dataset_name, model_name)\n",
    "    sample_path = os.path.join(store_path, '{}_samplesR.csv'.format(model_name))\n",
    "    model_samples = pd.read_csv(sample_path)\n",
    "    rules = find_rules(model_samples, minimum_support=5, min_len=1, protect_attr = protect_attr, target_attr='class', elift_th=[1, 1])\n",
    "\n",
    "    \n",
    "    rules.to_json(store_path + '{}_rules.json'.format(model_name),orient='records')\n",
    "    \n",
    "    \n",
    "def init_samples(dataset_name):\n",
    "    sample_num = 1000 # number of generated data \n",
    "    dataset_path = '../server/{}.csv'.format(dataset_name)\n",
    "    data = pd.read_csv(dataset_path)\n",
    "    \n",
    "    \n",
    "    # generate samples\n",
    "    samplesInit = generate_samples(data, sample_num)\n",
    "    samples_path = os.path.join(store_path, '{}_samples.json'.format(dataset_name))\n",
    "    samplesInit.to_json(samples_path, orient='records')\n",
    "\n",
    "\n",
    "def get_model_samples(dataset_name, models=['lr', 'knn', 'xgb'], protect_attr=''):\n",
    "    \"\"\"\n",
    "    train model on the training data,\n",
    "    return the generated samples based on the training data\n",
    "    \"\"\"\n",
    "    \n",
    "    dataset_path = '../server/{}.csv'.format(dataset_name)\n",
    "    data = pd.read_csv(dataset_path)\n",
    "    mdlp = num2cate_fit(data)\n",
    "\n",
    "    samples_path = os.path.join(store_path, '{}_samples.json'.format(dataset_name))\n",
    "    samplesInit = pd.read_json(samples_path)\n",
    "    \n",
    "    \n",
    "\n",
    "#     # find key_attrs\n",
    "#     key_attrs = findKeyAttrs(num2cate_transform(data, mdlp), protect_attr)\n",
    "#     f = open(store_path + '{}_key.json'.format(dataset_name),'w')\n",
    "#     json.dump(key_attrs, f)\n",
    "    \n",
    "    for var in models:\n",
    "        \n",
    "        # set name\n",
    "        model_name = dataset_name+\"_\"+var\n",
    "        model_gene = ModelGene(model_name)\n",
    "    \n",
    "        # train model\n",
    "        model, encoder, score = model_gene.fit_model( num2cate_transform(data, mdlp) )\n",
    "        \n",
    "        # general samples\n",
    "    \n",
    "        num_samples, cate_samples = generate_model_samples(samplesInit, mdlp, model, encoder) \n",
    "        \n",
    "        # add the ID col \n",
    "        cate_samples.insert(loc=0, column='id', value= cate_samples.index)\n",
    "        num_samples.insert(loc=0, column='id', value= num_samples.index)\n",
    "        \n",
    "        # save mdeol & samples to cache\n",
    "        dataOut = pd.concat([num_samples,cate_samples])\n",
    "\n",
    "        samples_path = os.path.join(store_path, '{}_samplesR.json'.format(model_name))\n",
    "        cate_samples.to_json(samples_path, orient='records')\n",
    "\n",
    "        samples_path = os.path.join(store_path, '{}_samplesR.csv'.format(model_name))\n",
    "        cate_samples.to_csv(samples_path, index=False)\n",
    "\n",
    "        samples_path = os.path.join(store_path, '{}_samples.json'.format(model_name))\n",
    "        dataOut.to_json(samples_path, orient='records')\n",
    "\n",
    "        samples_path = os.path.join(store_path, '{}_samples.csv'.format(model_name))\n",
    "        dataOut.to_csv(samples_path, index=False)\n",
    "        \n",
    "        print(dataset_name + ' ' + var + ' accuracy: ' + str(score))\n",
    "        \n",
    "    print(dataset_name + ' all done')\n",
    "\n"
   ]
  },
  {
   "cell_type": "code",
   "execution_count": 3,
   "metadata": {},
   "outputs": [
    {
     "name": "stdout",
     "output_type": "stream",
     "text": [
      "fit ['age', 'educational-num', 'fnlwgt', 'hours-per-week']\n",
      "transform ['age', 'educational-num', 'fnlwgt', 'hours-per-week']\n"
     ]
    },
    {
     "name": "stderr",
     "output_type": "stream",
     "text": [
      "/Users/wangqianwen/Documents/git_repo/discrimination_in_ML/py/myenv/lib/python3.6/site-packages/sklearn/preprocessing/_encoders.py:368: FutureWarning: The handling of integer data will change in version 0.22. Currently, the categories are determined based on the range [0, max(values)], while in the future they will be determined based on the unique values.\n",
      "If you want the future behaviour and silence this warning, you can specify \"categories='auto'\".\n",
      "In case you used a LabelEncoder before this OneHotEncoder to convert the categories to integers, then you can now use the OneHotEncoder directly.\n",
      "  warnings.warn(msg, FutureWarning)\n",
      "/Users/wangqianwen/Documents/git_repo/discrimination_in_ML/py/myenv/lib/python3.6/site-packages/sklearn/preprocessing/label.py:219: DataConversionWarning: A column-vector y was passed when a 1d array was expected. Please change the shape of y to (n_samples, ), for example using ravel().\n",
      "  y = column_or_1d(y, warn=True)\n",
      "/Users/wangqianwen/Documents/git_repo/discrimination_in_ML/py/myenv/lib/python3.6/site-packages/sklearn/preprocessing/label.py:252: DataConversionWarning: A column-vector y was passed when a 1d array was expected. Please change the shape of y to (n_samples, ), for example using ravel().\n",
      "  y = column_or_1d(y, warn=True)\n",
      "/Users/wangqianwen/Documents/git_repo/discrimination_in_ML/py/server/model/data_encoder.py:177: SettingWithCopyWarning: \n",
      "A value is trying to be set on a copy of a slice from a DataFrame.\n",
      "Try using .loc[row_indexer,col_indexer] = value instead\n",
      "\n",
      "See the caveats in the documentation: http://pandas.pydata.org/pandas-docs/stable/indexing.html#indexing-view-versus-copy\n",
      "  # one-hot encode the categorical features\n"
     ]
    },
    {
     "name": "stdout",
     "output_type": "stream",
     "text": [
      "transform ['age', 'educational-num', 'fnlwgt', 'hours-per-week']\n",
      "adult rf accuracy: 0.8237281195618794\n",
      "adult all done\n"
     ]
    },
    {
     "name": "stderr",
     "output_type": "stream",
     "text": [
      "/Users/wangqianwen/Documents/git_repo/discrimination_in_ML/py/server/model/data_encoder.py:177: SettingWithCopyWarning: \n",
      "A value is trying to be set on a copy of a slice from a DataFrame.\n",
      "Try using .loc[row_indexer,col_indexer] = value instead\n",
      "\n",
      "See the caveats in the documentation: http://pandas.pydata.org/pandas-docs/stable/indexing.html#indexing-view-versus-copy\n",
      "  # one-hot encode the categorical features\n"
     ]
    }
   ],
   "source": [
    "# init_samples('academic')\n",
    "get_model_samples('adult', ['rf'])"
   ]
  },
  {
   "cell_type": "code",
   "execution_count": 6,
   "metadata": {},
   "outputs": [
    {
     "ename": "NameError",
     "evalue": "name 'dataSet' is not defined",
     "output_type": "error",
     "traceback": [
      "\u001b[0;31m---------------------------------------------------------------------------\u001b[0m",
      "\u001b[0;31mNameError\u001b[0m                                 Traceback (most recent call last)",
      "\u001b[0;32m<ipython-input-6-5686f3f4465c>\u001b[0m in \u001b[0;36m<module>\u001b[0;34m\u001b[0m\n\u001b[1;32m     30\u001b[0m     \u001b[0mprint\u001b[0m\u001b[0;34m(\u001b[0m\u001b[0;34m'All finished'\u001b[0m\u001b[0;34m)\u001b[0m\u001b[0;34m\u001b[0m\u001b[0m\n\u001b[1;32m     31\u001b[0m \u001b[0;34m\u001b[0m\u001b[0m\n\u001b[0;32m---> 32\u001b[0;31m \u001b[0mget_all_rules\u001b[0m\u001b[0;34m(\u001b[0m\u001b[0;34m'sex=Female'\u001b[0m\u001b[0;34m,\u001b[0m \u001b[0;34m[\u001b[0m\u001b[0;34m'rf'\u001b[0m\u001b[0;34m,\u001b[0m\u001b[0;34m'svm'\u001b[0m\u001b[0;34m]\u001b[0m\u001b[0;34m,\u001b[0m\u001b[0;34m'adult'\u001b[0m\u001b[0;34m)\u001b[0m\u001b[0;34m\u001b[0m\u001b[0m\n\u001b[0m",
      "\u001b[0;32m<ipython-input-6-5686f3f4465c>\u001b[0m in \u001b[0;36mget_all_rules\u001b[0;34m(protect, models, dataset)\u001b[0m\n\u001b[1;32m      8\u001b[0m         \u001b[0mget_rules\u001b[0m\u001b[0;34m(\u001b[0m\u001b[0mdataset\u001b[0m\u001b[0;34m,\u001b[0m \u001b[0mprotect\u001b[0m\u001b[0;34m,\u001b[0m \u001b[0mmodel\u001b[0m\u001b[0;34m)\u001b[0m\u001b[0;34m\u001b[0m\u001b[0m\n\u001b[1;32m      9\u001b[0m     \u001b[0;32mfor\u001b[0m \u001b[0mmodel\u001b[0m \u001b[0;32min\u001b[0m \u001b[0mmodels\u001b[0m\u001b[0;34m:\u001b[0m\u001b[0;34m\u001b[0m\u001b[0m\n\u001b[0;32m---> 10\u001b[0;31m         \u001b[0msample_name\u001b[0m \u001b[0;34m=\u001b[0m \u001b[0mos\u001b[0m\u001b[0;34m.\u001b[0m\u001b[0mpath\u001b[0m\u001b[0;34m.\u001b[0m\u001b[0mjoin\u001b[0m\u001b[0;34m(\u001b[0m\u001b[0mstore_path\u001b[0m\u001b[0;34m,\u001b[0m \u001b[0mdataSet\u001b[0m \u001b[0;34m+\u001b[0m \u001b[0;34m'_'\u001b[0m \u001b[0;34m+\u001b[0m \u001b[0mmodel\u001b[0m \u001b[0;34m+\u001b[0m \u001b[0;34m'_samples.json'\u001b[0m\u001b[0;34m)\u001b[0m\u001b[0;34m\u001b[0m\u001b[0m\n\u001b[0m\u001b[1;32m     11\u001b[0m         \u001b[0mrule_name\u001b[0m \u001b[0;34m=\u001b[0m \u001b[0mos\u001b[0m\u001b[0;34m.\u001b[0m\u001b[0mpath\u001b[0m\u001b[0;34m.\u001b[0m\u001b[0mjoin\u001b[0m\u001b[0;34m(\u001b[0m\u001b[0mstore_path\u001b[0m\u001b[0;34m,\u001b[0m \u001b[0mdataSet\u001b[0m \u001b[0;34m+\u001b[0m \u001b[0;34m'_'\u001b[0m \u001b[0;34m+\u001b[0m \u001b[0mmodel\u001b[0m \u001b[0;34m+\u001b[0m \u001b[0;34m'_rules.json'\u001b[0m\u001b[0;34m)\u001b[0m\u001b[0;34m\u001b[0m\u001b[0m\n\u001b[1;32m     12\u001b[0m         \u001b[0msamples\u001b[0m \u001b[0;34m=\u001b[0m \u001b[0mpd\u001b[0m\u001b[0;34m.\u001b[0m\u001b[0mread_json\u001b[0m\u001b[0;34m(\u001b[0m\u001b[0msample_name\u001b[0m\u001b[0;34m)\u001b[0m\u001b[0;34m\u001b[0m\u001b[0m\n",
      "\u001b[0;31mNameError\u001b[0m: name 'dataSet' is not defined"
     ]
    }
   ],
   "source": [
    "# get_rules('academic','gender=F', 'xgb')\n",
    "\n",
    "def get_all_rules(protect, models=['xgb','knn','lr'], dataset='adult'):\n",
    "    \n",
    "    for model in models:\n",
    "        get_rules(dataset, protect, model)\n",
    "        get_rules(dataset, protect, model)\n",
    "        get_rules(dataset, protect, model)\n",
    "    for model in models:\n",
    "        sample_name = os.path.join(store_path, dataSet + '_' + model + '_samples.json')\n",
    "        rule_name = os.path.join(store_path, dataSet + '_' + model + '_rules.json')\n",
    "        samples = pd.read_json(sample_name)\n",
    "\n",
    "        # add item id to rules\n",
    "        def item_within_rule(item, rule_context):\n",
    "            for attr_val in rule_context:\n",
    "                attr, val = attr_val.split('=')\n",
    "                if not item[attr] == val :\n",
    "                    return False\n",
    "            return True\n",
    "\n",
    "        rules = pd.read_json(rule_name)\n",
    "        rules['items'] = ''\n",
    "        for idx, rule in rules.iterrows():\n",
    "            rules.at[idx, 'items'] = [sample['id'] for i,sample in samples.loc[1000:1999].iterrows() if item_within_rule(sample, rule[\"antecedent\"])] \n",
    "        rules.to_json(rule_name, orient='records')\n",
    "\n",
    "        print(dataSet+'_'+model+' has done')\n",
    "\n",
    "    print('All finished')\n",
    "\n",
    "get_all_rules('sex=Female', ['rf','svm'],'adult')"
   ]
  },
  {
   "cell_type": "code",
   "execution_count": null,
   "metadata": {},
   "outputs": [],
   "source": [
    "import pandas as pd\n",
    "\n",
    "\n",
    "df = pd.read_csv('german_credit.csv')\n",
    "\n",
    "df['gender'] = ''\n",
    "df['status'] = ''\n",
    "\n",
    "for i,d in df.iterrows():\n",
    "    df.at[i,'gender'] = df.at[i,'personal_status'].split(' ')[0]\n",
    "    df.at[i,'status'] = df.at[i,'personal_status'].split(' ')[1]\n",
    "df.drop(['personal_status'],axis=1)\n",
    "df.to_csv('german_credit.csv',index=False)"
   ]
  },
  {
   "cell_type": "code",
   "execution_count": null,
   "metadata": {},
   "outputs": [],
   "source": [
    "'''explore the number of samples for each rules'''\n",
    "import pandas as pd\n",
    "\n",
    "df = pd.read_json('academic_knn_rules.json')\n",
    "df = pd.DataFrame(df)\n",
    "for i,d in df.iterrows():\n",
    "    print(df.at[i,'antecedent'])\n",
    "    if(df.at[i,'antecedent']==['StudentAbsenceDays=Under-7', 'raisedhands=0<x<25', 'Discussion=1<x<25']):\n",
    "        print(df.at[i,'id'])"
   ]
  },
  {
   "cell_type": "code",
   "execution_count": null,
   "metadata": {},
   "outputs": [],
   "source": []
  }
 ],
 "metadata": {
  "kernelspec": {
   "display_name": "Python 3",
   "language": "python",
   "name": "python3"
  },
  "language_info": {
   "codemirror_mode": {
    "name": "ipython",
    "version": 3
   },
   "file_extension": ".py",
   "mimetype": "text/x-python",
   "name": "python",
   "nbconvert_exporter": "python",
   "pygments_lexer": "ipython3",
   "version": "3.6.5"
  }
 },
 "nbformat": 4,
 "nbformat_minor": 2
}
