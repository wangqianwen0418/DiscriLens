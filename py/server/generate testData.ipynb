{
 "cells": [
  {
   "cell_type": "code",
   "execution_count": 1,
   "metadata": {},
   "outputs": [],
   "source": [
    "\n",
    "import os\n",
    "import pandas as pd\n",
    "import json\n",
    "import numpy as np\n",
    "\n",
    "from model import num2cate_fit, num2cate_transform, generate_samples, generate_model_samples, ModelGene, findKeyAttrs, FindGroups, get_numAttrs, find_rules\n",
    "from model.samples import DataGene\n",
    "from model.data_encoder import DataEncoder\n",
    "from joblib import dump, load\n",
    "\n",
    "from sklearn.model_selection import KFold\n",
    "import dill\n",
    "import pickle\n",
    "import warnings\n",
    "warnings.filterwarnings('ignore')\n"
   ]
  },
  {
   "cell_type": "code",
   "execution_count": 2,
   "metadata": {
    "scrolled": true
   },
   "outputs": [],
   "source": [
    "\n",
    "\n",
    "store_path = '../../front/src/testdata/'\n",
    "\n",
    "\n",
    "def get_rules(dataset_name, protect_attr='',model_name=None):\n",
    "    \n",
    "    model_name = '{}_{}'.format(dataset_name, model_name)\n",
    "    sample_path = os.path.join(store_path, '{}_samples.csv'.format(model_name))\n",
    "    model_samples = pd.read_csv(sample_path)\n",
    "    model_samples = model_samples.iloc[int(len(model_samples)/2):]\n",
    "    rules = find_rules(model_samples, minimum_support=5, min_len=1, protect_attr = protect_attr, target_attr='class', elift_th=[1, 1])\n",
    "\n",
    "    \n",
    "    rules.to_json(store_path + '{}_rules.json'.format(model_name),orient='records')\n",
    "    \n",
    "    \n",
    "def init_samples(dataset_name, find_key=False):\n",
    "    sample_num = 1000 # number of generated data \n",
    "    dataset_path = '../server/{}.csv'.format(dataset_name)\n",
    "    data = pd.read_csv(dataset_path)\n",
    "    \n",
    "    mdlp = num2cate_fit(data, 2)\n",
    "    \n",
    "    if find_key:\n",
    "        # find key_attrs\n",
    "        key_attrs = findKeyAttrs(num2cate_transform(data, mdlp))\n",
    "        f = open(store_path + '{}_key.json'.format(dataset_name),'w')\n",
    "        json.dump(key_attrs, f)\n",
    "    \n",
    "    #  save mdelp\n",
    "    f=open('{}_mdlp.pkl'.format(dataset_name), 'wb')\n",
    "    dill.dump(mdlp, f, -1)\n",
    "    \n",
    "    \n",
    "    # generate samples\n",
    "    samplesInit = generate_samples(data, sample_num)\n",
    "    samples_path = os.path.join(store_path, '{}_samples.json'.format(dataset_name))\n",
    "    samplesInit.to_json(samples_path, orient='records')\n",
    "\n",
    "\n",
    "def get_model_samples(dataset_name, models=['lr', 'knn', 'xgb'], protect_attr=''):\n",
    "    \"\"\"\n",
    "    train model on the training data,\n",
    "    return the generated samples based on the training data\n",
    "    \"\"\"\n",
    "    if os.path.isfile('{}_mdlp.pkl'.format(dataset_name)):\n",
    "        f=open('{}_mdlp.pkl'.format(dataset_name), 'rb')\n",
    "        mdlp = dill.load(f)\n",
    "    else:\n",
    "        raise Exception('no mdlp exists, run init_samples first')\n",
    "        \n",
    "    dataset_path = '../server/{}.csv'.format(dataset_name)\n",
    "    data = pd.read_csv(dataset_path)\n",
    "    \n",
    "    \n",
    "\n",
    "    samples_path = os.path.join(store_path, '{}_samples.json'.format(dataset_name))\n",
    "    samplesInit = pd.read_json(samples_path)\n",
    "    \n",
    "    \n",
    "\n",
    "\n",
    "    \n",
    "    for var in models:\n",
    "        \n",
    "        # set name\n",
    "        model_name = dataset_name+\"_\"+var\n",
    "        model_gene = ModelGene(model_name)\n",
    "    \n",
    "        # train model\n",
    "        model, encoder, score = model_gene.fit_model( num2cate_transform(data, mdlp) )\n",
    "        f = open('./cache/models/model_{}_{}.pkl'.format(var, dataset_name), 'wb')    \n",
    "        pickle.dump(model, f)  \n",
    "        \n",
    "        # general samples\n",
    "    \n",
    "        num_samples, cate_samples = generate_model_samples(samplesInit, mdlp, model, encoder) \n",
    "        \n",
    "        # add the ID col \n",
    "        cate_samples.insert(loc=0, column='id', value= cate_samples.index)\n",
    "        num_samples.insert(loc=0, column='id', value= num_samples.index)\n",
    "        \n",
    "        # save mdeol & samples to cache\n",
    "        dataOut = pd.concat([num_samples,cate_samples])\n",
    "        \n",
    "        samples_path = os.path.join(store_path, '{}_samples.json'.format(model_name))\n",
    "        dataOut.to_json(samples_path, orient='records')\n",
    "\n",
    "        samples_path = os.path.join(store_path, '{}_samples.csv'.format(model_name))\n",
    "        dataOut.to_csv(samples_path, index=False)\n",
    "        \n",
    "        print(dataset_name + ' ' + var + ' accuracy: ' + str(score))\n",
    "        \n",
    "    print(dataset_name + ' all done')\n",
    "\n",
    "def get_all_rules(protect, models=['xgb','knn','lr'], dataset='adult'):\n",
    "    \n",
    "    for model in models:\n",
    "        get_rules(dataset, protect, model)\n",
    "        get_rules(dataset, protect, model)\n",
    "        get_rules(dataset, protect, model)\n",
    "    for model in models:\n",
    "        sample_name = os.path.join(store_path, dataset + '_' + model + '_samples.json')\n",
    "        rule_name = os.path.join(store_path, dataset + '_' + model + '_rules.json')\n",
    "        samples = pd.read_json(sample_name)\n",
    "\n",
    "        # add item id to rules\n",
    "        def item_within_rule(item, rule_context):\n",
    "            for attr_val in rule_context:\n",
    "                attr, val = attr_val.split('=')\n",
    "                if not item[attr] == val :\n",
    "                    return False\n",
    "            return True\n",
    "\n",
    "        rules = pd.read_json(rule_name)\n",
    "        rules['items'] = ''\n",
    "        for idx, rule in rules.iterrows():\n",
    "            rules.at[idx, 'items'] = [sample['id'] for i,sample in samples.iloc[int(len(samples)/2):].iterrows() if item_within_rule(sample, rule[\"antecedent\"])] \n",
    "        rules.to_json(rule_name, orient='records')\n",
    "\n",
    "        print(dataset+'_'+model+' has done')\n",
    "\n",
    "    print('All finished')\n",
    "\n"
   ]
  },
  {
   "cell_type": "code",
   "execution_count": 5,
   "metadata": {},
   "outputs": [
    {
     "name": "stdout",
     "output_type": "stream",
     "text": [
      "academic svm accuracy: 0.9125\n",
      "academic lr accuracy: 0.9145833333333332\n",
      "academic knn accuracy: 0.9\n",
      "academic dt accuracy: 0.8916666666666666\n",
      "academic rf accuracy: 0.9083333333333334\n",
      "academic xgb accuracy: 0.9083333333333332\n",
      "academic all done\n"
     ]
    }
   ],
   "source": [
    "models =['svm', 'lr', 'knn', 'dt', 'rf', 'xgb']\n",
    "dataset = 'academic'\n",
    "init_samples(dataset)\n",
    "get_model_samples(dataset, models)\n"
   ]
  },
  {
   "cell_type": "code",
   "execution_count": 6,
   "metadata": {},
   "outputs": [
    {
     "name": "stdout",
     "output_type": "stream",
     "text": [
      "academic_svm has done\n",
      "academic_lr has done\n",
      "academic_knn has done\n",
      "academic_dt has done\n",
      "academic_rf has done\n",
      "academic_xgb has done\n",
      "All finished\n"
     ]
    }
   ],
   "source": [
    "get_all_rules('gender=F', models, dataset)"
   ]
  },
  {
   "cell_type": "markdown",
   "metadata": {},
   "source": [
    "### reject option "
   ]
  },
  {
   "cell_type": "code",
   "execution_count": 3,
   "metadata": {},
   "outputs": [],
   "source": [
    "from sklearn.model_selection import cross_val_score, train_test_split\n",
    "from sklearn.metrics import accuracy_score\n",
    "\n",
    "def predict_post(x_samples, model, theta, samples, constraints=[['gender', 'M']]):\n",
    "    y_samples = model.predict(x_samples)\n",
    "    y_probs = model.predict_proba(x_samples)\n",
    "    y_post_samples = []\n",
    "    for idx, prob in enumerate( y_probs):\n",
    "        # if in the reject option space, modify label\n",
    "        if max(prob[1], 1- prob[1])<theta and all([samples.iloc[idx][constraint[0]]==constraint[1] for constraint in constraints]):\n",
    "            y_post_samples.append(1)\n",
    "        # else, remain the same\n",
    "        else:\n",
    "            y_post_samples.append(y_samples[idx])\n",
    "    return y_post_samples\n",
    "        \n",
    "\n",
    "def run_reject_option(model_name, dataset_name, theta, constraints=[['gender', 'M']]):\n",
    "#     f = open('./cache/models/model_{}_{}.pkl'.format(model_name, dataset_name), 'rb')    \n",
    "#     model = pickle.load(f)  \n",
    "    \n",
    "    if os.path.isfile('{}_mdlp.pkl'.format(dataset_name)):\n",
    "        f=open('{}_mdlp.pkl'.format(dataset_name), 'rb')\n",
    "        mdlp = dill.load(f)\n",
    "    else:\n",
    "        raise Exception('no mdlp exists, run init_samples first')\n",
    "        \n",
    "    #  training data\n",
    "    dataset_path = '../server/{}.csv'.format(dataset_name)\n",
    "    data = pd.read_csv(dataset_path)\n",
    "    encoder = DataEncoder()\n",
    "    encoder.fit(num2cate_transform(data, mdlp))\n",
    "    x, y = encoder.transform(num2cate_transform(data, mdlp))\n",
    "    \n",
    "#     score_cross = cross_val_score(model, x, y, scoring='accuracy', cv = KFold(n_splits=5, shuffle = True)) \n",
    "#     print('cross valide', score_cross)\n",
    "    \n",
    "    k =5\n",
    "    scores = []\n",
    "    kf = KFold(n_splits=k)\n",
    "    kf.get_n_splits(x)\n",
    "\n",
    "    for train_index, test_index in kf.split(x):\n",
    "        x_train, x_test = x[train_index], x[test_index]\n",
    "        y_train, y_test = y[train_index], y[test_index]\n",
    "        \n",
    "        model_gene = ModelGene('{}_{}'.format(dataset_name,model_name))\n",
    "        model = model_gene.model\n",
    "        \n",
    "        model.fit(x_train, y_train)\n",
    "        score = accuracy_score(y_test, model.predict(x_test))\n",
    "        scores.append(score)\n",
    "    print ('score of {}'.format(model_name), sum(scores)/len(scores))\n",
    "    \n",
    "    scores = []\n",
    "    for train_index, test_index in kf.split(x):\n",
    "        x_train, x_test = x[train_index], x[test_index]\n",
    "        y_train, y_test = y[train_index], y[test_index]\n",
    "        \n",
    "        model_gene = ModelGene('{}_{}'.format(dataset_name,model_name))\n",
    "        model = model_gene.model\n",
    "        model.fit(x_train, y_train)\n",
    "        \n",
    "        y_post_test = predict_post(x_test, model, theta, data, constraints)\n",
    "        score = accuracy_score(y_test, y_post_test)\n",
    "        scores.append(score)\n",
    "    print ('score after roc of {}'.format(model_name), sum(scores)/len(scores))\n",
    "        \n",
    "    #  for synthetic data, save samples for rules mining\n",
    "    model_gene = ModelGene('{}_{}'.format(dataset_name,model_name))\n",
    "    model = model_gene.model\n",
    "    model.fit(x, y)\n",
    "        \n",
    "    samples_path = os.path.join(store_path, '{}_samples.json'.format(dataset_name))\n",
    "    samplesInit = pd.read_json(samples_path)\n",
    "    samples = num2cate_transform(samplesInit, mdlp)\n",
    "    x_samples, _ = encoder.transform(samples)\n",
    "    y_samples_post = predict_post(x_samples, model, theta, samples, constraints)\n",
    "    \n",
    "    #  concate post processing result to samples\n",
    "    num_samples = samplesInit.copy()\n",
    "    num_samples['class'] = pd.Series(np.asarray(y_samples_post), index= samples.index) \n",
    "\n",
    "    cate_samples = samples.copy()\n",
    "    cate_samples['class'] = pd.Series(np.asarray(y_samples_post), index= samples.index) \n",
    "    \n",
    "    \n",
    "    # add the ID col \n",
    "    cate_samples.insert(loc=0, column='id', value= cate_samples.index)\n",
    "    num_samples.insert(loc=0, column='id', value= num_samples.index)\n",
    "\n",
    "    # save mdeol & samples to cache\n",
    "    dataOut = pd.concat([num_samples,cate_samples])\n",
    "\n",
    "    samples_path = os.path.join(store_path, '{}_{}_post{}_samples.json'.format(dataset_name, model_name, len(constraints)))\n",
    "    dataOut.to_json(samples_path, orient='records')\n",
    "\n",
    "    samples_path = os.path.join(store_path, '{}_{}_post{}_samples.csv'.format(dataset_name, model_name, len(constraints)))\n",
    "    dataOut.to_csv(samples_path, index=False)\n",
    "    "
   ]
  },
  {
   "cell_type": "code",
   "execution_count": 4,
   "metadata": {},
   "outputs": [
    {
     "name": "stdout",
     "output_type": "stream",
     "text": [
      "score of knn 0.8916666666666666\n",
      "score after roc of knn 0.8708333333333333\n"
     ]
    }
   ],
   "source": [
    "run_reject_option('knn', 'academic', 0.8, [['gender', 'M']])"
   ]
  },
  {
   "cell_type": "code",
   "execution_count": 5,
   "metadata": {},
   "outputs": [
    {
     "name": "stdout",
     "output_type": "stream",
     "text": [
      "academic_knn_post1 has done\n",
      "All finished\n"
     ]
    }
   ],
   "source": [
    "get_all_rules('gender=F', ['knn_post1'], 'academic')"
   ]
  },
  {
   "cell_type": "code",
   "execution_count": null,
   "metadata": {},
   "outputs": [],
   "source": [
    "'''explore the number of samples for each rules'''\n",
    "import pandas as pd\n",
    "\n",
    "df = pd.read_json('academic_knn_rules.json')\n",
    "df = pd.DataFrame(df)\n",
    "for i,d in df.iterrows():\n",
    "    print(df.at[i,'antecedent'])\n",
    "    if(df.at[i,'antecedent']==['StudentAbsenceDays=Under-7', 'raisedhands=0<x<25', 'Discussion=1<x<25']):\n",
    "        print(df.at[i,'id'])"
   ]
  },
  {
   "cell_type": "code",
   "execution_count": null,
   "metadata": {},
   "outputs": [],
   "source": [
    "samples = pd.read_json(os.path.join(store_path, '{}_samples.json'.format('academic')))\n",
    "samples.iloc[int(len(samples)/2):]"
   ]
  },
  {
   "cell_type": "code",
   "execution_count": 7,
   "metadata": {},
   "outputs": [
    {
     "name": "stdout",
     "output_type": "stream",
     "text": [
      "samplePrior: Sample prior (min = 1.0) (java.lang.Double) [default:1.0]\n",
      "structurePrior: Structure prior coefficient (min = 1.0) (java.lang.Double) [default:1.0]\n",
      "faithfulnessAssumed: Yes if (one edge) faithfulness should be assumed (java.lang.Boolean) [default:true]\n",
      "symmetricFirstStep: Yes if the first step step for FGES should do scoring for both X->Y and Y->X (java.lang.Boolean) [default:false]\n",
      "maxDegree: The maximum degree of the graph (min = -1) (java.lang.Integer) [default:100]\n",
      "verbose: Yes if verbose output should be printed or logged (java.lang.Boolean) [default:true]\n",
      "numberResampling: The number of resampling iterations (min = 0) (java.lang.Integer) [default:0]\n",
      "resampleSize: The resample size (min = 1) (java.lang.Integer) [default:1]\n",
      "resamplingWithReplacement: Yes, if resampling with replacement (bootstrapping) (java.lang.Boolean) [default:true]\n",
      "resamplingEnsemble: Ensemble method: Preserved (0), Highest (1), Majority (2) (java.lang.Integer) [default:1]\n",
      "edges ['class --- StudentAbsenceDays', 'raisedhands --- Relation', 'class --- gender', 'class --- VisITedResources', 'raisedhands --- VisITedResources', 'raisedhands --- AnnouncementsView', 'AnnouncementsView --- Semester', 'AnnouncementsView --- Discussion']\n",
      "key attributes ['StudentAbsenceDays', 'gender', 'VisITedResources']\n"
     ]
    }
   ],
   "source": [
    "dataset_name = 'academic'\n",
    "dataset_path = '../server/{}.csv'.format(dataset_name)\n",
    "data = pd.read_csv(dataset_path)\n",
    "    \n",
    "mdlp = num2cate_fit(data, 2)\n",
    "\n",
    "key_attrs = findKeyAttrs(num2cate_transform(data, mdlp))"
   ]
  },
  {
   "cell_type": "code",
   "execution_count": null,
   "metadata": {},
   "outputs": [],
   "source": []
  }
 ],
 "metadata": {
  "kernelspec": {
   "display_name": "Python 3",
   "language": "python",
   "name": "python3"
  },
  "language_info": {
   "codemirror_mode": {
    "name": "ipython",
    "version": 3
   },
   "file_extension": ".py",
   "mimetype": "text/x-python",
   "name": "python",
   "nbconvert_exporter": "python",
   "pygments_lexer": "ipython3",
   "version": "3.6.5"
  }
 },
 "nbformat": 4,
 "nbformat_minor": 2
}
