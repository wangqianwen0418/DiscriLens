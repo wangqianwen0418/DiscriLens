{
 "cells": [
  {
   "cell_type": "code",
   "execution_count": null,
   "metadata": {},
   "outputs": [],
   "source": []
  },
  {
   "cell_type": "code",
   "execution_count": 2,
   "metadata": {
    "scrolled": true
   },
   "outputs": [
    {
     "name": "stdout",
     "output_type": "stream",
     "text": [
      "start\n",
      "dataTest_xgb has done\n",
      "dataTest_knn has done\n",
      "dataTest_lr has done\n",
      "bank_xgb has done\n",
      "bank_knn has done\n",
      "bank_lr has done\n",
      "All finished\n"
     ]
    }
   ],
   "source": [
    "\n",
    "# # add id to samples\n",
    "import pandas as pd\n",
    "\n",
    "dataSets = ['dataTest','bank']\n",
    "models = ['xgb','knn','lr']\n",
    "print('start')\n",
    "for dataSet in dataSets:\n",
    "    for model in models:\n",
    "        sample_name = dataSet + '_' + model + '_samples_concat.json'\n",
    "        rule_name = dataSet + '_' + model + '_rules.json'\n",
    "        samples = pd.read_json(sample_name)\n",
    "\n",
    "        # add item id to rules\n",
    "        def item_within_rule(item, rule_context):\n",
    "            for attr_val in rule_context:\n",
    "                attr, val = attr_val.split('=')\n",
    "                if not item[attr] == val :\n",
    "                    return False\n",
    "            return True\n",
    "\n",
    "        rules = pd.read_json(rule_name)\n",
    "        rules['items'] = ''\n",
    "        for idx, rule in rules.iterrows():\n",
    "            rules.at[idx, 'items'] = [sample['id'] for i,sample in samples.loc[1000:1999].iterrows() if item_within_rule(sample, rule[\"antecedent\"])] \n",
    "        rules.to_json(rule_name, orient='records')\n",
    "\n",
    "        print(dataSet+'_'+model+' has done')\n",
    "\n",
    "print('All finished')"
   ]
  },
  {
   "cell_type": "code",
   "execution_count": null,
   "metadata": {},
   "outputs": [],
   "source": []
  }
 ],
 "metadata": {
  "kernelspec": {
   "display_name": "Python 3",
   "language": "python",
   "name": "python3"
  },
  "language_info": {
   "codemirror_mode": {
    "name": "ipython",
    "version": 3
   },
   "file_extension": ".py",
   "mimetype": "text/x-python",
   "name": "python",
   "nbconvert_exporter": "python",
   "pygments_lexer": "ipython3",
   "version": "3.7.1"
  }
 },
 "nbformat": 4,
 "nbformat_minor": 2
}
