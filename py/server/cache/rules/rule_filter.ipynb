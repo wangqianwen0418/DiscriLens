{
 "cells": [
  {
   "cell_type": "code",
   "execution_count": 37,
   "metadata": {},
   "outputs": [
    {
     "name": "stdout",
     "output_type": "stream",
     "text": [
      "53 23\n"
     ]
    }
   ],
   "source": [
    "import pandas as pd\n",
    "\n",
    "df = pd.read_csv('dataTest_rules.csv')\n",
    "df_filter1 = df.loc[abs(df['elift']-1)>=0.3]\n",
    "df_filter2 = df_filter1.loc[(~df_filter1['antecedent'].str.contains('Unnamed'))]\n",
    "#df_filter2 = df_filter1\n",
    "print(len(df_filter1),len(df_filter2))\n",
    "df_filter2.to_csv('rules.csv')"
   ]
  },
  {
   "cell_type": "code",
   "execution_count": 31,
   "metadata": {},
   "outputs": [
    {
     "name": "stdout",
     "output_type": "stream",
     "text": [
      "5 5\n"
     ]
    },
    {
     "data": {
      "text/html": [
       "<div>\n",
       "<style scoped>\n",
       "    .dataframe tbody tr th:only-of-type {\n",
       "        vertical-align: middle;\n",
       "    }\n",
       "\n",
       "    .dataframe tbody tr th {\n",
       "        vertical-align: top;\n",
       "    }\n",
       "\n",
       "    .dataframe thead th {\n",
       "        text-align: right;\n",
       "    }\n",
       "</style>\n",
       "<table border=\"1\" class=\"dataframe\">\n",
       "  <thead>\n",
       "    <tr style=\"text-align: right;\">\n",
       "      <th></th>\n",
       "      <th>Unnamed: 0</th>\n",
       "      <th>antecedent</th>\n",
       "      <th>pd</th>\n",
       "      <th>cls</th>\n",
       "      <th>conf_pd</th>\n",
       "      <th>conf_pnd</th>\n",
       "      <th>elift</th>\n",
       "      <th>sup_pd</th>\n",
       "      <th>sup_pnd</th>\n",
       "    </tr>\n",
       "  </thead>\n",
       "  <tbody>\n",
       "    <tr>\n",
       "      <th>824</th>\n",
       "      <td>697</td>\n",
       "      <td>['workclass= Self_emp_inc', 'hours_per_week=x&gt;...</td>\n",
       "      <td>sex= Female</td>\n",
       "      <td>class=LOW</td>\n",
       "      <td>1.0</td>\n",
       "      <td>0.764706</td>\n",
       "      <td>1.307692</td>\n",
       "      <td>8.0</td>\n",
       "      <td>13.0</td>\n",
       "    </tr>\n",
       "    <tr>\n",
       "      <th>825</th>\n",
       "      <td>698</td>\n",
       "      <td>['race= Asian_Pac_Islander', 'hours_per_week=x...</td>\n",
       "      <td>sex= Female</td>\n",
       "      <td>class=LOW</td>\n",
       "      <td>1.0</td>\n",
       "      <td>0.750000</td>\n",
       "      <td>1.333333</td>\n",
       "      <td>6.0</td>\n",
       "      <td>12.0</td>\n",
       "    </tr>\n",
       "    <tr>\n",
       "      <th>826</th>\n",
       "      <td>666</td>\n",
       "      <td>['hours_per_week=25&lt;x&lt;50', 'race= Asian_Pac_Is...</td>\n",
       "      <td>sex= Female</td>\n",
       "      <td>class=LOW</td>\n",
       "      <td>1.0</td>\n",
       "      <td>0.750000</td>\n",
       "      <td>1.333333</td>\n",
       "      <td>5.0</td>\n",
       "      <td>9.0</td>\n",
       "    </tr>\n",
       "    <tr>\n",
       "      <th>827</th>\n",
       "      <td>797</td>\n",
       "      <td>['hours_per_week=25&lt;x&lt;50', 'native_country= Ph...</td>\n",
       "      <td>sex= Female</td>\n",
       "      <td>class=LOW</td>\n",
       "      <td>1.0</td>\n",
       "      <td>0.750000</td>\n",
       "      <td>1.333333</td>\n",
       "      <td>6.0</td>\n",
       "      <td>12.0</td>\n",
       "    </tr>\n",
       "    <tr>\n",
       "      <th>828</th>\n",
       "      <td>75</td>\n",
       "      <td>['age=53&lt;x&lt;71', 'relationship= Husband', 'fnlw...</td>\n",
       "      <td>sex= Female</td>\n",
       "      <td>class=LOW</td>\n",
       "      <td>1.0</td>\n",
       "      <td>0.714286</td>\n",
       "      <td>1.400000</td>\n",
       "      <td>5.0</td>\n",
       "      <td>5.0</td>\n",
       "    </tr>\n",
       "  </tbody>\n",
       "</table>\n",
       "</div>"
      ],
      "text/plain": [
       "     Unnamed: 0                                         antecedent  \\\n",
       "824         697  ['workclass= Self_emp_inc', 'hours_per_week=x>...   \n",
       "825         698  ['race= Asian_Pac_Islander', 'hours_per_week=x...   \n",
       "826         666  ['hours_per_week=25<x<50', 'race= Asian_Pac_Is...   \n",
       "827         797  ['hours_per_week=25<x<50', 'native_country= Ph...   \n",
       "828          75  ['age=53<x<71', 'relationship= Husband', 'fnlw...   \n",
       "\n",
       "              pd        cls  conf_pd  conf_pnd     elift  sup_pd  sup_pnd  \n",
       "824  sex= Female  class=LOW      1.0  0.764706  1.307692     8.0     13.0  \n",
       "825  sex= Female  class=LOW      1.0  0.750000  1.333333     6.0     12.0  \n",
       "826  sex= Female  class=LOW      1.0  0.750000  1.333333     5.0      9.0  \n",
       "827  sex= Female  class=LOW      1.0  0.750000  1.333333     6.0     12.0  \n",
       "828  sex= Female  class=LOW      1.0  0.714286  1.400000     5.0      5.0  "
      ]
     },
     "execution_count": 31,
     "metadata": {},
     "output_type": "execute_result"
    }
   ],
   "source": [
    "\n",
    "df = pd.read_csv('dataTest_xgb_rules.csv')\n",
    "df_filter1 = df.loc[abs(df['conf_pd']-df['conf_pnd'])>=df['conf_pnd'] * 0.3]\n",
    "df_filter2 = df_filter1.loc[(df_filter1['antecedent'].str.contains('education_num'))|(df_filter1['antecedent'].str.contains('hours_per_week')|(df_filter1['antecedent'].str.contains('relationship')))]\n",
    "print(len(df_filter1),len(df_filter2))\n",
    "df_filter1"
   ]
  },
  {
   "cell_type": "code",
   "execution_count": 32,
   "metadata": {},
   "outputs": [
    {
     "name": "stdout",
     "output_type": "stream",
     "text": [
      "0 0\n"
     ]
    },
    {
     "data": {
      "text/html": [
       "<div>\n",
       "<style scoped>\n",
       "    .dataframe tbody tr th:only-of-type {\n",
       "        vertical-align: middle;\n",
       "    }\n",
       "\n",
       "    .dataframe tbody tr th {\n",
       "        vertical-align: top;\n",
       "    }\n",
       "\n",
       "    .dataframe thead th {\n",
       "        text-align: right;\n",
       "    }\n",
       "</style>\n",
       "<table border=\"1\" class=\"dataframe\">\n",
       "  <thead>\n",
       "    <tr style=\"text-align: right;\">\n",
       "      <th></th>\n",
       "      <th>Unnamed: 0</th>\n",
       "      <th>antecedent</th>\n",
       "      <th>pd</th>\n",
       "      <th>cls</th>\n",
       "      <th>conf_pd</th>\n",
       "      <th>conf_pnd</th>\n",
       "      <th>elift</th>\n",
       "      <th>sup_pd</th>\n",
       "      <th>sup_pnd</th>\n",
       "    </tr>\n",
       "  </thead>\n",
       "  <tbody>\n",
       "  </tbody>\n",
       "</table>\n",
       "</div>"
      ],
      "text/plain": [
       "Empty DataFrame\n",
       "Columns: [Unnamed: 0, antecedent, pd, cls, conf_pd, conf_pnd, elift, sup_pd, sup_pnd]\n",
       "Index: []"
      ]
     },
     "execution_count": 32,
     "metadata": {},
     "output_type": "execute_result"
    }
   ],
   "source": [
    "df = pd.read_csv('dataTest_knn_rules.csv')\n",
    "df_filter1 = df.loc[abs(df['conf_pd']-df['conf_pnd'])>=df['conf_pnd'] * 0.3]\n",
    "df_filter2 = df_filter1.loc[(df_filter1['antecedent'].str.contains('education_num'))|(df_filter1['antecedent'].str.contains('hours_per_week')|(df_filter1['antecedent'].str.contains('relationship')))]\n",
    "print(len(df_filter1),len(df_filter2))\n",
    "df_filter1"
   ]
  },
  {
   "cell_type": "code",
   "execution_count": 17,
   "metadata": {},
   "outputs": [
    {
     "data": {
      "text/plain": [
       "[['relationship', ' Not-in-family'], ['education', ' Masters']]"
      ]
     },
     "execution_count": 17,
     "metadata": {},
     "output_type": "execute_result"
    }
   ],
   "source": [
    "import pandas as pd\n",
    "\n",
    "df = pd.read_csv('dataTest_rules.csv')\n",
    "df_0 = df.iloc[0]\n",
    "df_0 = df_0['antecedent']\n",
    "df_1 = df_0.split(\"'\")\n",
    "df_2 = [s for s in df_1 if len(s)>5]\n",
    "record = []\n",
    "for var in df_2:\n",
    "    var_split = var.split('=')\n",
    "    record.append(var_split)\n",
    "record"
   ]
  },
  {
   "cell_type": "code",
   "execution_count": null,
   "metadata": {},
   "outputs": [],
   "source": []
  }
 ],
 "metadata": {
  "kernelspec": {
   "display_name": "Python 3",
   "language": "python",
   "name": "python3"
  },
  "language_info": {
   "codemirror_mode": {
    "name": "ipython",
    "version": 3
   },
   "file_extension": ".py",
   "mimetype": "text/x-python",
   "name": "python",
   "nbconvert_exporter": "python",
   "pygments_lexer": "ipython3",
   "version": "3.7.2"
  }
 },
 "nbformat": 4,
 "nbformat_minor": 2
}
