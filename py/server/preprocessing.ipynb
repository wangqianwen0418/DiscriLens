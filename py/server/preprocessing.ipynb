{
 "cells": [
  {
   "cell_type": "code",
   "execution_count": 1,
   "metadata": {},
   "outputs": [],
   "source": [
    "import pandas as pd\n",
    "import os\n",
    "from collections import OrderedDict\n",
    "import math\n",
    "\n",
    "\n",
    "\n",
    "\n",
    "\n",
    "def findRange(thresholds, v):\n",
    "    for i, th in enumerate(thresholds):\n",
    "        if(v <= th):\n",
    "            if i==0:\n",
    "                return \"x<{}\".format(th)\n",
    "            elif i == len(thresholds)-1:\n",
    "                return \"x>{}\".format(thresholds[i-1])\n",
    "            else:\n",
    "                return \"{}<x<{}\".format(thresholds[i-1], thresholds[i])\n",
    "\n",
    "def convert_cate(arr):\n",
    "    n = 4 #parts to be divided\n",
    "    maxValue = max(arr)\n",
    "    minValue = min(arr)\n",
    "    thresholds = [ math.floor(i*(maxValue-minValue)/n)+minValue for i in range(n+1)]\n",
    "\n",
    "    print([findRange(thresholds, i) for i in arr])\n",
    "    \n",
    "    return pd.Series([findRange(thresholds, i) for i in arr])\n",
    "\n",
    "\n",
    "def num2cate(df, num2cate_key, remove_key):\n",
    "#     new_data = pd.DataFrame()\n",
    "    for k in df.columns:\n",
    "        print(len(k))\n",
    "        if (k in remove_key):\n",
    "            print('remove key', k)\n",
    "            df.drop(columns=[k])\n",
    "            continue \n",
    "        elif k in num2cate_key:\n",
    "            print('modify', k)\n",
    "            values = pd.to_numeric(df[k])\n",
    "            df[k] = convert_cate(values.tolist())\n",
    "\n",
    "        else:\n",
    "            print('same key', k)\n",
    "\n",
    "    for k in df:\n",
    "        print(k)\n",
    "        \n",
    "    return df\n",
    "\n",
    "\n",
    "def split(df):\n",
    "    sex, marriage = df['personal_status'].str.split(' ', 1).str\n",
    "    df.insert(loc=0, column='sex', value=sex)\n",
    "    df.insert(loc=0, column='marriage', value=marriage)\n",
    "    df.drop('personal_status', axis = 1, inplace=True)\n",
    "    \n",
    "    return df"
   ]
  },
  {
   "cell_type": "code",
   "execution_count": 3,
   "metadata": {},
   "outputs": [],
   "source": [
    "filename = \"credit.data.csv\"\n",
    "data_dir = os.path.join('../data/credit',filename)\n",
    "df = pd.read_csv(data_dir)\n",
    "\n",
    "# print(df.columns)\n",
    "\n",
    "# num2cate_key = [\"credit_amount\", \"duration\", \"age\"]\n",
    "# remove_key = [\"education_num\"]\n",
    "\n",
    "# # num to cate\n",
    "# df = num2cate(df, num2cate_key, remove_key)\n",
    "\n",
    "#\n",
    "df = split(df)\n",
    "\n",
    "\n",
    "\n",
    "df.to_csv(\"credit_clean.csv\", index=False)"
   ]
  },
  {
   "cell_type": "code",
   "execution_count": 7,
   "metadata": {},
   "outputs": [],
   "source": [
    "filename = \"adult.test.csv\"\n",
    "data_dir = os.path.join('../data/adult',filename)\n",
    "df = pd.read_csv(data_dir)\n",
    "\n",
    "df['country']= df['country'].apply(lambda x: 'US' if x == 'United-States' else 'non-US')\n",
    "\n",
    "df.to_csv(\"../data/adult/adult.test.csv\", index=False)"
   ]
  },
  {
   "cell_type": "code",
   "execution_count": 20,
   "metadata": {},
   "outputs": [],
   "source": [
    "import os \n",
    "import pandas as pd\n",
    "\n",
    "def json2csv(data, model):\n",
    "    filename = \"{}_{}_rules.json\".format(data, model)\n",
    "    data_dir = os.path.join('../../front/src/asset',filename)\n",
    "    df = pd.read_json(data_dir)\n",
    "    df=df.drop(columns=['elift', 'id','sup_pd','sup_pnd'])\n",
    "    \n",
    "    df['size']= df.apply(lambda row: len(row['items']), axis = 1) \n",
    "    \n",
    "    if data=='adult':\n",
    "        df = df[abs(df['risk_dif'])>=0.1]\n",
    "    elif data=='academic':\n",
    "        df = df[abs(df['risk_dif'])>=0.25]\n",
    "    \n",
    "    save_path='../../../discrilens/'\n",
    "    df.to_csv(save_path+filename.replace('.json','.csv'), index=False)"
   ]
  },
  {
   "cell_type": "code",
   "execution_count": 21,
   "metadata": {},
   "outputs": [],
   "source": [
    "datasets=['academic', 'adult']\n",
    "models = ['knn','rf','dt','svm','lr','xgb']\n",
    "for data in datasets:\n",
    "    for m in models:\n",
    "        json2csv(data, m)"
   ]
  },
  {
   "cell_type": "code",
   "execution_count": 18,
   "metadata": {},
   "outputs": [
    {
     "data": {
      "text/plain": [
       "0.1"
      ]
     },
     "execution_count": 18,
     "metadata": {},
     "output_type": "execute_result"
    }
   ],
   "source": [
    "abs(-0.1)"
   ]
  },
  {
   "cell_type": "code",
   "execution_count": null,
   "metadata": {},
   "outputs": [],
   "source": []
  }
 ],
 "metadata": {
  "kernelspec": {
   "display_name": "'Python Interactive'",
   "language": "python",
   "name": "ff4536ec-5d03-44ef-b9fd-430afc2b8e37"
  },
  "language_info": {
   "codemirror_mode": {
    "name": "ipython",
    "version": 3
   },
   "file_extension": ".py",
   "mimetype": "text/x-python",
   "name": "python",
   "nbconvert_exporter": "python",
   "pygments_lexer": "ipython3",
   "version": "3.6.5"
  }
 },
 "nbformat": 4,
 "nbformat_minor": 2
}
