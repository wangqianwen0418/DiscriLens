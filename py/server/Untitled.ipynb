{
 "cells": [
  {
   "cell_type": "code",
   "execution_count": 65,
   "metadata": {},
   "outputs": [],
   "source": [
    "import pandas as pd\n",
    "dataIn = pd.read_csv('adult_test.csv')\n",
    "dataIn = dataIn.dropna(how='any') \n",
    "classData = dataIn['class']\n",
    "classDataNew = []\n",
    "for var in classData:\n",
    "    if var==classData[0]:\n",
    "        classDataNew.append('LOW')\n",
    "    else:\n",
    "        classDataNew.append('HIGH')\n",
    "\n",
    "df = dataIn.copy()\n",
    "df['class'] = classDataNew\n",
    "df = df[(df.values != ' nan').all(axis=1)]\n",
    "df.to_csv('./dataTest.csv')"
   ]
  },
  {
   "cell_type": "code",
   "execution_count": null,
   "metadata": {},
   "outputs": [],
   "source": []
  },
  {
   "cell_type": "code",
   "execution_count": null,
   "metadata": {},
   "outputs": [],
   "source": []
  }
 ],
 "metadata": {
  "kernelspec": {
   "display_name": "Python 3",
   "language": "python",
   "name": "python3"
  },
  "language_info": {
   "codemirror_mode": {
    "name": "ipython",
    "version": 3
   },
   "file_extension": ".py",
   "mimetype": "text/x-python",
   "name": "python",
   "nbconvert_exporter": "python",
   "pygments_lexer": "ipython3",
   "version": "3.6.5"
  }
 },
 "nbformat": 4,
 "nbformat_minor": 2
}
