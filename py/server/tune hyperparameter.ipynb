{
 "cells": [
  {
   "cell_type": "code",
   "execution_count": 22,
   "metadata": {},
   "outputs": [],
   "source": [
    "import os\n",
    "import pandas as pd\n",
    "import json\n",
    "from time import time\n",
    "import numpy as np\n",
    "\n",
    "from model import num2cate_fit, num2cate_transform, generate_samples, generate_model_samples, ModelGene, findKeyAttrs, FindGroups, get_numAttrs, find_rules\n",
    "from model.samples import DataGene\n",
    "from model.data_encoder import DataEncoder\n",
    "from joblib import dump, load\n",
    "\n",
    "from sklearn.model_selection import RandomizedSearchCV\n",
    "from scipy.stats import randint as sp_randint\n",
    "from sklearn.ensemble import RandomForestClassifier\n",
    "\n",
    "import dill\n",
    "\n",
    "import warnings\n",
    "warnings.filterwarnings('ignore')\n",
    "\n",
    "def report(results, n_top=3):\n",
    "    for i in range(1, n_top + 1):\n",
    "        candidates = np.flatnonzero(results['rank_test_score'] == i)\n",
    "        for candidate in candidates:\n",
    "            print(\"Model with rank: {0}\".format(i))\n",
    "            print(\"Mean validation score: {0:.3f} (std: {1:.3f})\".format(\n",
    "                  results['mean_test_score'][candidate],\n",
    "                  results['std_test_score'][candidate]))\n",
    "            print(\"Parameters: {0}\".format(results['params'][candidate]))\n",
    "            print(\"\")\n",
    "\n",
    "\n",
    "def search_model(clf,param_dist, dataset_name):\n",
    "    \n",
    "    \n",
    "    \n",
    "    if os.path.isfile('{}_mdlp.pkl'.format(dataset_name)):\n",
    "        f=open('{}_mdlp.pkl'.format(dataset_name), 'rb')\n",
    "        mdlp = dill.load(f)\n",
    "    else:\n",
    "        raise Exception('no mdlp exists, run init_samples first')\n",
    "        \n",
    "    dataset_path = '../server/{}.csv'.format(dataset_name)\n",
    "    data = pd.read_csv(dataset_path)\n",
    "    data = num2cate_transform(data, mdlp) \n",
    "    encoder = DataEncoder()\n",
    "    encoder.fit(data)\n",
    "    X, y = encoder.transform(data)\n",
    "   \n",
    "\n",
    "    # train model\n",
    "    \n",
    "    \n",
    "    # run randomized search\n",
    "    n_iter_search = 40\n",
    "    random_search = RandomizedSearchCV(clf, param_distributions=param_dist,\n",
    "                                       n_iter=n_iter_search, cv=5)\n",
    "\n",
    "    start = time()\n",
    "    random_search.fit(X, y)\n",
    "    print(\"RandomizedSearchCV took %.2f seconds for %d candidates\"\n",
    "          \" parameter settings.\" % ((time() - start), n_iter_search))\n",
    "    report(random_search.cv_results_)\n",
    "        \n",
    "        "
   ]
  },
  {
   "cell_type": "markdown",
   "metadata": {},
   "source": [
    "## try random forest"
   ]
  },
  {
   "cell_type": "code",
   "execution_count": 23,
   "metadata": {},
   "outputs": [
    {
     "name": "stderr",
     "output_type": "stream",
     "text": [
      "/Users/wangqianwen/Documents/git_repo/discrimination_in_ML/py/myenv/lib/python3.6/site-packages/sklearn/preprocessing/_encoders.py:368: FutureWarning: The handling of integer data will change in version 0.22. Currently, the categories are determined based on the range [0, max(values)], while in the future they will be determined based on the unique values.\n",
      "If you want the future behaviour and silence this warning, you can specify \"categories='auto'\".\n",
      "In case you used a LabelEncoder before this OneHotEncoder to convert the categories to integers, then you can now use the OneHotEncoder directly.\n",
      "  warnings.warn(msg, FutureWarning)\n",
      "/Users/wangqianwen/Documents/git_repo/discrimination_in_ML/py/myenv/lib/python3.6/site-packages/sklearn/preprocessing/label.py:219: DataConversionWarning: A column-vector y was passed when a 1d array was expected. Please change the shape of y to (n_samples, ), for example using ravel().\n",
      "  y = column_or_1d(y, warn=True)\n",
      "/Users/wangqianwen/Documents/git_repo/discrimination_in_ML/py/myenv/lib/python3.6/site-packages/sklearn/preprocessing/label.py:252: DataConversionWarning: A column-vector y was passed when a 1d array was expected. Please change the shape of y to (n_samples, ), for example using ravel().\n",
      "  y = column_or_1d(y, warn=True)\n",
      "/Users/wangqianwen/Documents/git_repo/discrimination_in_ML/py/server/model/data_encoder.py:175: SettingWithCopyWarning: \n",
      "A value is trying to be set on a copy of a slice from a DataFrame.\n",
      "Try using .loc[row_indexer,col_indexer] = value instead\n",
      "\n",
      "See the caveats in the documentation: http://pandas.pydata.org/pandas-docs/stable/indexing.html#indexing-view-versus-copy\n",
      "  cats[column] = encoder.transform(cats[column])\n"
     ]
    },
    {
     "name": "stdout",
     "output_type": "stream",
     "text": [
      "RandomizedSearchCV took 13.60 seconds for 40 candidates parameter settings.\n",
      "Model with rank: 1\n",
      "Mean validation score: 0.904 (std: 0.054)\n",
      "Parameters: {'bootstrap': True, 'criterion': 'gini', 'max_depth': 10, 'max_features': 5, 'min_samples_split': 9, 'n_estimators': 50}\n",
      "\n",
      "Model with rank: 1\n",
      "Mean validation score: 0.904 (std: 0.043)\n",
      "Parameters: {'bootstrap': True, 'criterion': 'gini', 'max_depth': 4, 'max_features': 3, 'min_samples_split': 2, 'n_estimators': 100}\n",
      "\n",
      "Model with rank: 3\n",
      "Mean validation score: 0.902 (std: 0.057)\n",
      "Parameters: {'bootstrap': False, 'criterion': 'gini', 'max_depth': 4, 'max_features': 5, 'min_samples_split': 7, 'n_estimators': 50}\n",
      "\n"
     ]
    },
    {
     "name": "stderr",
     "output_type": "stream",
     "text": [
      "/Users/wangqianwen/Documents/git_repo/discrimination_in_ML/py/myenv/lib/python3.6/site-packages/sklearn/model_selection/_search.py:841: DeprecationWarning: The default of the `iid` parameter will change from True to False in version 0.22 and will be removed in 0.24. This will change numeric results when test-set sizes are unequal.\n",
      "  DeprecationWarning)\n"
     ]
    }
   ],
   "source": [
    "# random forest\n",
    "clf = RandomForestClassifier( min_samples_leaf=1)\n",
    "    \n",
    "# specify parameters and distributions to sample from\n",
    "param_dist = {\"max_depth\": sp_randint(4, 11),\n",
    "          \"n_estimators\":[20, 50, 100, 200],\n",
    "          \"max_features\": ['auto', 1, 3, 5],\n",
    "          \"min_samples_split\": sp_randint(2, 11),\n",
    "          \"bootstrap\": [True, False],\n",
    "          \"criterion\": [\"gini\", \"entropy\"]}\n",
    "\n",
    "search_model(clf, param_dist, 'academic')"
   ]
  },
  {
   "cell_type": "markdown",
   "metadata": {},
   "source": [
    "## try lr"
   ]
  },
  {
   "cell_type": "code",
   "execution_count": 27,
   "metadata": {},
   "outputs": [
    {
     "name": "stderr",
     "output_type": "stream",
     "text": [
      "/Users/wangqianwen/Documents/git_repo/discrimination_in_ML/py/myenv/lib/python3.6/site-packages/sklearn/preprocessing/_encoders.py:368: FutureWarning: The handling of integer data will change in version 0.22. Currently, the categories are determined based on the range [0, max(values)], while in the future they will be determined based on the unique values.\n",
      "If you want the future behaviour and silence this warning, you can specify \"categories='auto'\".\n",
      "In case you used a LabelEncoder before this OneHotEncoder to convert the categories to integers, then you can now use the OneHotEncoder directly.\n",
      "  warnings.warn(msg, FutureWarning)\n",
      "/Users/wangqianwen/Documents/git_repo/discrimination_in_ML/py/myenv/lib/python3.6/site-packages/sklearn/preprocessing/label.py:219: DataConversionWarning: A column-vector y was passed when a 1d array was expected. Please change the shape of y to (n_samples, ), for example using ravel().\n",
      "  y = column_or_1d(y, warn=True)\n",
      "/Users/wangqianwen/Documents/git_repo/discrimination_in_ML/py/myenv/lib/python3.6/site-packages/sklearn/preprocessing/label.py:252: DataConversionWarning: A column-vector y was passed when a 1d array was expected. Please change the shape of y to (n_samples, ), for example using ravel().\n",
      "  y = column_or_1d(y, warn=True)\n",
      "/Users/wangqianwen/Documents/git_repo/discrimination_in_ML/py/server/model/data_encoder.py:175: SettingWithCopyWarning: \n",
      "A value is trying to be set on a copy of a slice from a DataFrame.\n",
      "Try using .loc[row_indexer,col_indexer] = value instead\n",
      "\n",
      "See the caveats in the documentation: http://pandas.pydata.org/pandas-docs/stable/indexing.html#indexing-view-versus-copy\n",
      "  cats[column] = encoder.transform(cats[column])\n",
      "/Users/wangqianwen/Documents/git_repo/discrimination_in_ML/py/myenv/lib/python3.6/site-packages/sklearn/model_selection/_search.py:271: UserWarning: The total space of parameters 20 is smaller than n_iter=40. Running 20 iterations. For exhaustive searches, use GridSearchCV.\n",
      "  % (grid_size, self.n_iter, grid_size), UserWarning)\n",
      "/Users/wangqianwen/Documents/git_repo/discrimination_in_ML/py/myenv/lib/python3.6/site-packages/sklearn/linear_model/sag.py:334: ConvergenceWarning: The max_iter was reached which means the coef_ did not converge\n",
      "  \"the coef_ did not converge\", ConvergenceWarning)\n",
      "/Users/wangqianwen/Documents/git_repo/discrimination_in_ML/py/myenv/lib/python3.6/site-packages/sklearn/linear_model/sag.py:334: ConvergenceWarning: The max_iter was reached which means the coef_ did not converge\n",
      "  \"the coef_ did not converge\", ConvergenceWarning)\n",
      "/Users/wangqianwen/Documents/git_repo/discrimination_in_ML/py/myenv/lib/python3.6/site-packages/sklearn/linear_model/sag.py:334: ConvergenceWarning: The max_iter was reached which means the coef_ did not converge\n",
      "  \"the coef_ did not converge\", ConvergenceWarning)\n",
      "/Users/wangqianwen/Documents/git_repo/discrimination_in_ML/py/myenv/lib/python3.6/site-packages/sklearn/linear_model/sag.py:334: ConvergenceWarning: The max_iter was reached which means the coef_ did not converge\n",
      "  \"the coef_ did not converge\", ConvergenceWarning)\n",
      "/Users/wangqianwen/Documents/git_repo/discrimination_in_ML/py/myenv/lib/python3.6/site-packages/sklearn/linear_model/sag.py:334: ConvergenceWarning: The max_iter was reached which means the coef_ did not converge\n",
      "  \"the coef_ did not converge\", ConvergenceWarning)\n",
      "/Users/wangqianwen/Documents/git_repo/discrimination_in_ML/py/myenv/lib/python3.6/site-packages/sklearn/linear_model/sag.py:334: ConvergenceWarning: The max_iter was reached which means the coef_ did not converge\n",
      "  \"the coef_ did not converge\", ConvergenceWarning)\n",
      "/Users/wangqianwen/Documents/git_repo/discrimination_in_ML/py/myenv/lib/python3.6/site-packages/sklearn/linear_model/sag.py:334: ConvergenceWarning: The max_iter was reached which means the coef_ did not converge\n",
      "  \"the coef_ did not converge\", ConvergenceWarning)\n",
      "/Users/wangqianwen/Documents/git_repo/discrimination_in_ML/py/myenv/lib/python3.6/site-packages/sklearn/linear_model/sag.py:334: ConvergenceWarning: The max_iter was reached which means the coef_ did not converge\n",
      "  \"the coef_ did not converge\", ConvergenceWarning)\n",
      "/Users/wangqianwen/Documents/git_repo/discrimination_in_ML/py/myenv/lib/python3.6/site-packages/sklearn/linear_model/sag.py:334: ConvergenceWarning: The max_iter was reached which means the coef_ did not converge\n",
      "  \"the coef_ did not converge\", ConvergenceWarning)\n",
      "/Users/wangqianwen/Documents/git_repo/discrimination_in_ML/py/myenv/lib/python3.6/site-packages/sklearn/linear_model/sag.py:334: ConvergenceWarning: The max_iter was reached which means the coef_ did not converge\n",
      "  \"the coef_ did not converge\", ConvergenceWarning)\n",
      "/Users/wangqianwen/Documents/git_repo/discrimination_in_ML/py/myenv/lib/python3.6/site-packages/sklearn/linear_model/sag.py:334: ConvergenceWarning: The max_iter was reached which means the coef_ did not converge\n",
      "  \"the coef_ did not converge\", ConvergenceWarning)\n",
      "/Users/wangqianwen/Documents/git_repo/discrimination_in_ML/py/myenv/lib/python3.6/site-packages/sklearn/linear_model/sag.py:334: ConvergenceWarning: The max_iter was reached which means the coef_ did not converge\n",
      "  \"the coef_ did not converge\", ConvergenceWarning)\n",
      "/Users/wangqianwen/Documents/git_repo/discrimination_in_ML/py/myenv/lib/python3.6/site-packages/sklearn/linear_model/sag.py:334: ConvergenceWarning: The max_iter was reached which means the coef_ did not converge\n",
      "  \"the coef_ did not converge\", ConvergenceWarning)\n"
     ]
    },
    {
     "name": "stdout",
     "output_type": "stream",
     "text": [
      "RandomizedSearchCV took 0.62 seconds for 40 candidates parameter settings.\n",
      "Model with rank: 1\n",
      "Mean validation score: 0.904 (std: 0.034)\n",
      "Parameters: {'solver': 'sag', 'penalty': 'l2', 'C': 0.5}\n",
      "\n",
      "Model with rank: 1\n",
      "Mean validation score: 0.904 (std: 0.034)\n",
      "Parameters: {'solver': 'saga', 'penalty': 'l2', 'C': 0.5}\n",
      "\n",
      "Model with rank: 3\n",
      "Mean validation score: 0.902 (std: 0.030)\n",
      "Parameters: {'solver': 'liblinear', 'penalty': 'l2', 'C': 0.1}\n",
      "\n",
      "Model with rank: 3\n",
      "Mean validation score: 0.902 (std: 0.037)\n",
      "Parameters: {'solver': 'newton-cg', 'penalty': 'l2', 'C': 0.5}\n",
      "\n",
      "Model with rank: 3\n",
      "Mean validation score: 0.902 (std: 0.037)\n",
      "Parameters: {'solver': 'lbfgs', 'penalty': 'l2', 'C': 0.5}\n",
      "\n"
     ]
    }
   ],
   "source": [
    "from sklearn.linear_model import LogisticRegression\n",
    "clf = LogisticRegression()\n",
    "param_dist = {\"solver\" : ['newton-cg', 'lbfgs', 'liblinear', 'sag', 'saga'], \n",
    "          \"penalty\" : ['l2'], \n",
    "          \"C\": [0.1, 0.2, 0.5, 1]}\n",
    "\n",
    "search_model(clf, param_dist, 'academic')"
   ]
  },
  {
   "cell_type": "markdown",
   "metadata": {},
   "source": [
    "### try xgboost"
   ]
  },
  {
   "cell_type": "code",
   "execution_count": 30,
   "metadata": {},
   "outputs": [
    {
     "name": "stderr",
     "output_type": "stream",
     "text": [
      "/Users/wangqianwen/Documents/git_repo/discrimination_in_ML/py/myenv/lib/python3.6/site-packages/sklearn/preprocessing/_encoders.py:368: FutureWarning: The handling of integer data will change in version 0.22. Currently, the categories are determined based on the range [0, max(values)], while in the future they will be determined based on the unique values.\n",
      "If you want the future behaviour and silence this warning, you can specify \"categories='auto'\".\n",
      "In case you used a LabelEncoder before this OneHotEncoder to convert the categories to integers, then you can now use the OneHotEncoder directly.\n",
      "  warnings.warn(msg, FutureWarning)\n",
      "/Users/wangqianwen/Documents/git_repo/discrimination_in_ML/py/myenv/lib/python3.6/site-packages/sklearn/preprocessing/label.py:219: DataConversionWarning: A column-vector y was passed when a 1d array was expected. Please change the shape of y to (n_samples, ), for example using ravel().\n",
      "  y = column_or_1d(y, warn=True)\n",
      "/Users/wangqianwen/Documents/git_repo/discrimination_in_ML/py/myenv/lib/python3.6/site-packages/sklearn/preprocessing/label.py:252: DataConversionWarning: A column-vector y was passed when a 1d array was expected. Please change the shape of y to (n_samples, ), for example using ravel().\n",
      "  y = column_or_1d(y, warn=True)\n",
      "/Users/wangqianwen/Documents/git_repo/discrimination_in_ML/py/server/model/data_encoder.py:175: SettingWithCopyWarning: \n",
      "A value is trying to be set on a copy of a slice from a DataFrame.\n",
      "Try using .loc[row_indexer,col_indexer] = value instead\n",
      "\n",
      "See the caveats in the documentation: http://pandas.pydata.org/pandas-docs/stable/indexing.html#indexing-view-versus-copy\n",
      "  cats[column] = encoder.transform(cats[column])\n"
     ]
    },
    {
     "name": "stdout",
     "output_type": "stream",
     "text": [
      "[19:39:49] Tree method is selected to be 'hist', which uses a single updater grow_fast_histmaker.\n",
      "[19:39:49] Tree method is selected to be 'hist', which uses a single updater grow_fast_histmaker.\n",
      "[19:39:50] Tree method is selected to be 'hist', which uses a single updater grow_fast_histmaker.\n",
      "[19:39:50] Tree method is selected to be 'hist', which uses a single updater grow_fast_histmaker.\n",
      "[19:39:50] Tree method is selected to be 'hist', which uses a single updater grow_fast_histmaker.\n",
      "[19:39:52] Tree method is selected to be 'hist', which uses a single updater grow_fast_histmaker.\n",
      "[19:39:52] Tree method is selected to be 'hist', which uses a single updater grow_fast_histmaker.\n",
      "[19:39:52] Tree method is selected to be 'hist', which uses a single updater grow_fast_histmaker.\n",
      "[19:39:52] Tree method is selected to be 'hist', which uses a single updater grow_fast_histmaker.\n",
      "[19:39:52] Tree method is selected to be 'hist', which uses a single updater grow_fast_histmaker.\n",
      "[19:39:54] Tree method is selected to be 'hist', which uses a single updater grow_fast_histmaker.\n",
      "[19:39:54] Tree method is selected to be 'hist', which uses a single updater grow_fast_histmaker.\n",
      "[19:39:54] Tree method is selected to be 'hist', which uses a single updater grow_fast_histmaker.\n",
      "[19:39:54] Tree method is selected to be 'hist', which uses a single updater grow_fast_histmaker.\n",
      "[19:39:54] Tree method is selected to be 'hist', which uses a single updater grow_fast_histmaker.\n",
      "[19:39:55] Tree method is selected to be 'hist', which uses a single updater grow_fast_histmaker.\n",
      "[19:39:55] Tree method is selected to be 'hist', which uses a single updater grow_fast_histmaker.\n",
      "[19:39:55] Tree method is selected to be 'hist', which uses a single updater grow_fast_histmaker.\n",
      "[19:39:55] Tree method is selected to be 'hist', which uses a single updater grow_fast_histmaker.\n",
      "[19:39:55] Tree method is selected to be 'hist', which uses a single updater grow_fast_histmaker.\n",
      "[19:39:55] Tree method is selected to be 'hist', which uses a single updater grow_fast_histmaker.\n",
      "[19:39:55] Tree method is selected to be 'hist', which uses a single updater grow_fast_histmaker.\n",
      "[19:39:55] Tree method is selected to be 'hist', which uses a single updater grow_fast_histmaker.\n",
      "[19:39:55] Tree method is selected to be 'hist', which uses a single updater grow_fast_histmaker.\n",
      "[19:39:55] Tree method is selected to be 'hist', which uses a single updater grow_fast_histmaker.\n",
      "[19:39:56] Tree method is selected to be 'hist', which uses a single updater grow_fast_histmaker.\n",
      "[19:39:56] Tree method is selected to be 'hist', which uses a single updater grow_fast_histmaker.\n",
      "[19:39:56] Tree method is selected to be 'hist', which uses a single updater grow_fast_histmaker.\n",
      "[19:39:56] Tree method is selected to be 'hist', which uses a single updater grow_fast_histmaker.\n",
      "[19:39:56] Tree method is selected to be 'hist', which uses a single updater grow_fast_histmaker.\n",
      "[19:39:56] Tree method is selected to be 'hist', which uses a single updater grow_fast_histmaker.\n",
      "[19:39:56] Tree method is selected to be 'hist', which uses a single updater grow_fast_histmaker.\n",
      "[19:39:56] Tree method is selected to be 'hist', which uses a single updater grow_fast_histmaker.\n",
      "[19:39:56] Tree method is selected to be 'hist', which uses a single updater grow_fast_histmaker.\n",
      "[19:39:56] Tree method is selected to be 'hist', which uses a single updater grow_fast_histmaker.\n",
      "[19:39:57] Tree method is selected to be 'hist', which uses a single updater grow_fast_histmaker.\n",
      "[19:39:57] Tree method is selected to be 'hist', which uses a single updater grow_fast_histmaker.\n",
      "[19:39:57] Tree method is selected to be 'hist', which uses a single updater grow_fast_histmaker.\n",
      "[19:39:57] Tree method is selected to be 'hist', which uses a single updater grow_fast_histmaker.\n",
      "[19:39:57] Tree method is selected to be 'hist', which uses a single updater grow_fast_histmaker.\n",
      "[19:39:57] Tree method is selected to be 'hist', which uses a single updater grow_fast_histmaker.\n",
      "[19:39:57] Tree method is selected to be 'hist', which uses a single updater grow_fast_histmaker.\n",
      "[19:39:57] Tree method is selected to be 'hist', which uses a single updater grow_fast_histmaker.\n",
      "[19:39:57] Tree method is selected to be 'hist', which uses a single updater grow_fast_histmaker.\n",
      "[19:39:57] Tree method is selected to be 'hist', which uses a single updater grow_fast_histmaker.\n",
      "[19:39:57] Tree method is selected to be 'hist', which uses a single updater grow_fast_histmaker.\n",
      "[19:39:57] Tree method is selected to be 'hist', which uses a single updater grow_fast_histmaker.\n",
      "[19:39:57] Tree method is selected to be 'hist', which uses a single updater grow_fast_histmaker.\n",
      "[19:39:57] Tree method is selected to be 'hist', which uses a single updater grow_fast_histmaker.\n",
      "[19:39:57] Tree method is selected to be 'hist', which uses a single updater grow_fast_histmaker.\n",
      "[19:39:58] Tree method is selected to be 'hist', which uses a single updater grow_fast_histmaker.\n",
      "[19:39:58] Tree method is selected to be 'hist', which uses a single updater grow_fast_histmaker.\n",
      "[19:39:58] Tree method is selected to be 'hist', which uses a single updater grow_fast_histmaker.\n",
      "[19:39:58] Tree method is selected to be 'hist', which uses a single updater grow_fast_histmaker.\n",
      "[19:39:58] Tree method is selected to be 'hist', which uses a single updater grow_fast_histmaker.\n",
      "[19:39:58] Tree method is selected to be 'hist', which uses a single updater grow_fast_histmaker.\n",
      "[19:39:58] Tree method is selected to be 'hist', which uses a single updater grow_fast_histmaker.\n",
      "[19:39:58] Tree method is selected to be 'hist', which uses a single updater grow_fast_histmaker.\n",
      "[19:39:58] Tree method is selected to be 'hist', which uses a single updater grow_fast_histmaker.\n",
      "[19:39:58] Tree method is selected to be 'hist', which uses a single updater grow_fast_histmaker.\n",
      "RandomizedSearchCV took 10.43 seconds for 40 candidates parameter settings.\n",
      "Model with rank: 1\n",
      "Mean validation score: 0.896 (std: 0.060)\n",
      "Parameters: {'eta': 0.1, 'gamma': 4, 'max_depth': 6, 'tree_method': 'exact'}\n",
      "\n",
      "Model with rank: 1\n",
      "Mean validation score: 0.896 (std: 0.060)\n",
      "Parameters: {'eta': 0.1, 'gamma': 4, 'max_depth': 4, 'tree_method': 'approx'}\n",
      "\n",
      "Model with rank: 1\n",
      "Mean validation score: 0.896 (std: 0.060)\n",
      "Parameters: {'eta': 0.7, 'gamma': 4, 'max_depth': 9, 'tree_method': 'exact'}\n",
      "\n"
     ]
    },
    {
     "name": "stderr",
     "output_type": "stream",
     "text": [
      "/Users/wangqianwen/Documents/git_repo/discrimination_in_ML/py/myenv/lib/python3.6/site-packages/sklearn/model_selection/_search.py:841: DeprecationWarning: The default of the `iid` parameter will change from True to False in version 0.22 and will be removed in 0.24. This will change numeric results when test-set sizes are unequal.\n",
      "  DeprecationWarning)\n"
     ]
    }
   ],
   "source": [
    "from xgboost import XGBClassifier\n",
    "clf = XGBClassifier(n_estimators=200, max_depth=5 )\n",
    "param_dist = {\"eta\" : [0.1, 0.2, 0.5, 0.7 ,1 ], \n",
    "          \"gamma\" : [0, 0.1, 0.3, 0.6, 1, 4, 8, 16],\n",
    "          \"max_depth\": sp_randint(2, 10),\n",
    "          \"tree_method\": [\"auto\", \"exact\", \"approx\", \"hist\"]\n",
    "             }\n",
    "\n",
    "search_model(clf, param_dist, 'academic')"
   ]
  },
  {
   "cell_type": "code",
   "execution_count": 34,
   "metadata": {},
   "outputs": [
    {
     "name": "stderr",
     "output_type": "stream",
     "text": [
      "/Users/wangqianwen/Documents/git_repo/discrimination_in_ML/py/myenv/lib/python3.6/site-packages/sklearn/preprocessing/_encoders.py:368: FutureWarning: The handling of integer data will change in version 0.22. Currently, the categories are determined based on the range [0, max(values)], while in the future they will be determined based on the unique values.\n",
      "If you want the future behaviour and silence this warning, you can specify \"categories='auto'\".\n",
      "In case you used a LabelEncoder before this OneHotEncoder to convert the categories to integers, then you can now use the OneHotEncoder directly.\n",
      "  warnings.warn(msg, FutureWarning)\n",
      "/Users/wangqianwen/Documents/git_repo/discrimination_in_ML/py/myenv/lib/python3.6/site-packages/sklearn/preprocessing/label.py:219: DataConversionWarning: A column-vector y was passed when a 1d array was expected. Please change the shape of y to (n_samples, ), for example using ravel().\n",
      "  y = column_or_1d(y, warn=True)\n",
      "/Users/wangqianwen/Documents/git_repo/discrimination_in_ML/py/myenv/lib/python3.6/site-packages/sklearn/preprocessing/label.py:252: DataConversionWarning: A column-vector y was passed when a 1d array was expected. Please change the shape of y to (n_samples, ), for example using ravel().\n",
      "  y = column_or_1d(y, warn=True)\n",
      "/Users/wangqianwen/Documents/git_repo/discrimination_in_ML/py/server/model/data_encoder.py:175: SettingWithCopyWarning: \n",
      "A value is trying to be set on a copy of a slice from a DataFrame.\n",
      "Try using .loc[row_indexer,col_indexer] = value instead\n",
      "\n",
      "See the caveats in the documentation: http://pandas.pydata.org/pandas-docs/stable/indexing.html#indexing-view-versus-copy\n",
      "  cats[column] = encoder.transform(cats[column])\n",
      "/Users/wangqianwen/Documents/git_repo/discrimination_in_ML/py/myenv/lib/python3.6/site-packages/sklearn/model_selection/_search.py:271: UserWarning: The total space of parameters 8 is smaller than n_iter=40. Running 8 iterations. For exhaustive searches, use GridSearchCV.\n",
      "  % (grid_size, self.n_iter, grid_size), UserWarning)\n"
     ]
    },
    {
     "name": "stdout",
     "output_type": "stream",
     "text": [
      "RandomizedSearchCV took 0.15 seconds for 40 candidates parameter settings.\n",
      "Model with rank: 1\n",
      "Mean validation score: 0.894 (std: 0.028)\n",
      "Parameters: {'kernel': 'linear', 'gamma': 'scale'}\n",
      "\n",
      "Model with rank: 1\n",
      "Mean validation score: 0.894 (std: 0.028)\n",
      "Parameters: {'kernel': 'linear', 'gamma': 'auto'}\n",
      "\n",
      "Model with rank: 3\n",
      "Mean validation score: 0.892 (std: 0.052)\n",
      "Parameters: {'kernel': 'poly', 'gamma': 'scale'}\n",
      "\n",
      "Model with rank: 3\n",
      "Mean validation score: 0.892 (std: 0.052)\n",
      "Parameters: {'kernel': 'poly', 'gamma': 'auto'}\n",
      "\n"
     ]
    },
    {
     "name": "stderr",
     "output_type": "stream",
     "text": [
      "/Users/wangqianwen/Documents/git_repo/discrimination_in_ML/py/myenv/lib/python3.6/site-packages/sklearn/model_selection/_search.py:841: DeprecationWarning: The default of the `iid` parameter will change from True to False in version 0.22 and will be removed in 0.24. This will change numeric results when test-set sizes are unequal.\n",
      "  DeprecationWarning)\n"
     ]
    }
   ],
   "source": [
    "from sklearn.svm import SVC\n",
    "clf = SVC(kernel=\"rbf\", gamma='scale')\n",
    "param_dist = {\n",
    "    \"kernel\":[\"linear\", \"poly\", \"rbf\", \"sigmoid\"] ,\n",
    "    \"gamma\": [\"scale\", \"auto\"]\n",
    "}\n",
    "search_model(clf, param_dist, 'academic')"
   ]
  },
  {
   "cell_type": "code",
   "execution_count": 35,
   "metadata": {},
   "outputs": [
    {
     "name": "stderr",
     "output_type": "stream",
     "text": [
      "/Users/wangqianwen/Documents/git_repo/discrimination_in_ML/py/myenv/lib/python3.6/site-packages/sklearn/preprocessing/_encoders.py:368: FutureWarning: The handling of integer data will change in version 0.22. Currently, the categories are determined based on the range [0, max(values)], while in the future they will be determined based on the unique values.\n",
      "If you want the future behaviour and silence this warning, you can specify \"categories='auto'\".\n",
      "In case you used a LabelEncoder before this OneHotEncoder to convert the categories to integers, then you can now use the OneHotEncoder directly.\n",
      "  warnings.warn(msg, FutureWarning)\n",
      "/Users/wangqianwen/Documents/git_repo/discrimination_in_ML/py/myenv/lib/python3.6/site-packages/sklearn/preprocessing/label.py:219: DataConversionWarning: A column-vector y was passed when a 1d array was expected. Please change the shape of y to (n_samples, ), for example using ravel().\n",
      "  y = column_or_1d(y, warn=True)\n",
      "/Users/wangqianwen/Documents/git_repo/discrimination_in_ML/py/myenv/lib/python3.6/site-packages/sklearn/preprocessing/label.py:252: DataConversionWarning: A column-vector y was passed when a 1d array was expected. Please change the shape of y to (n_samples, ), for example using ravel().\n",
      "  y = column_or_1d(y, warn=True)\n",
      "/Users/wangqianwen/Documents/git_repo/discrimination_in_ML/py/server/model/data_encoder.py:175: SettingWithCopyWarning: \n",
      "A value is trying to be set on a copy of a slice from a DataFrame.\n",
      "Try using .loc[row_indexer,col_indexer] = value instead\n",
      "\n",
      "See the caveats in the documentation: http://pandas.pydata.org/pandas-docs/stable/indexing.html#indexing-view-versus-copy\n",
      "  cats[column] = encoder.transform(cats[column])\n"
     ]
    },
    {
     "name": "stdout",
     "output_type": "stream",
     "text": [
      "RandomizedSearchCV took 2.20 seconds for 40 candidates parameter settings.\n",
      "Model with rank: 1\n",
      "Mean validation score: 0.890 (std: 0.063)\n",
      "Parameters: {'algorithm': 'brute', 'leaf_size': 17, 'n_neighbors': 16, 'weights': 'distance'}\n",
      "\n",
      "Model with rank: 1\n",
      "Mean validation score: 0.890 (std: 0.063)\n",
      "Parameters: {'algorithm': 'brute', 'leaf_size': 16, 'n_neighbors': 16, 'weights': 'distance'}\n",
      "\n",
      "Model with rank: 3\n",
      "Mean validation score: 0.887 (std: 0.074)\n",
      "Parameters: {'algorithm': 'ball_tree', 'leaf_size': 29, 'n_neighbors': 12, 'weights': 'distance'}\n",
      "\n"
     ]
    },
    {
     "name": "stderr",
     "output_type": "stream",
     "text": [
      "/Users/wangqianwen/Documents/git_repo/discrimination_in_ML/py/myenv/lib/python3.6/site-packages/sklearn/model_selection/_search.py:841: DeprecationWarning: The default of the `iid` parameter will change from True to False in version 0.22 and will be removed in 0.24. This will change numeric results when test-set sizes are unequal.\n",
      "  DeprecationWarning)\n"
     ]
    }
   ],
   "source": [
    "from sklearn.neighbors import KNeighborsClassifier\n",
    "clf = KNeighborsClassifier()\n",
    "param_dist = {\n",
    "    \"n_neighbors\": sp_randint(2, 20),\n",
    "    \"weights\": [\"uniform\", \"distance\"],\n",
    "    \"algorithm\": [\"auto\", \"ball_tree\", \"kd_tree\", \"brute\"],\n",
    "    \"leaf_size\": sp_randint(2,40)\n",
    "}\n",
    "search_model(clf, param_dist, 'academic')"
   ]
  },
  {
   "cell_type": "code",
   "execution_count": 38,
   "metadata": {},
   "outputs": [
    {
     "name": "stderr",
     "output_type": "stream",
     "text": [
      "/Users/wangqianwen/Documents/git_repo/discrimination_in_ML/py/myenv/lib/python3.6/site-packages/sklearn/preprocessing/_encoders.py:368: FutureWarning: The handling of integer data will change in version 0.22. Currently, the categories are determined based on the range [0, max(values)], while in the future they will be determined based on the unique values.\n",
      "If you want the future behaviour and silence this warning, you can specify \"categories='auto'\".\n",
      "In case you used a LabelEncoder before this OneHotEncoder to convert the categories to integers, then you can now use the OneHotEncoder directly.\n",
      "  warnings.warn(msg, FutureWarning)\n",
      "/Users/wangqianwen/Documents/git_repo/discrimination_in_ML/py/myenv/lib/python3.6/site-packages/sklearn/preprocessing/label.py:219: DataConversionWarning: A column-vector y was passed when a 1d array was expected. Please change the shape of y to (n_samples, ), for example using ravel().\n",
      "  y = column_or_1d(y, warn=True)\n",
      "/Users/wangqianwen/Documents/git_repo/discrimination_in_ML/py/myenv/lib/python3.6/site-packages/sklearn/preprocessing/label.py:252: DataConversionWarning: A column-vector y was passed when a 1d array was expected. Please change the shape of y to (n_samples, ), for example using ravel().\n",
      "  y = column_or_1d(y, warn=True)\n",
      "/Users/wangqianwen/Documents/git_repo/discrimination_in_ML/py/server/model/data_encoder.py:175: SettingWithCopyWarning: \n",
      "A value is trying to be set on a copy of a slice from a DataFrame.\n",
      "Try using .loc[row_indexer,col_indexer] = value instead\n",
      "\n",
      "See the caveats in the documentation: http://pandas.pydata.org/pandas-docs/stable/indexing.html#indexing-view-versus-copy\n",
      "  cats[column] = encoder.transform(cats[column])\n"
     ]
    },
    {
     "name": "stdout",
     "output_type": "stream",
     "text": [
      "RandomizedSearchCV took 0.24 seconds for 40 candidates parameter settings.\n",
      "Model with rank: 1\n",
      "Mean validation score: 0.898 (std: 0.050)\n",
      "Parameters: {'criterion': 'entropy', 'max_depth': 5, 'min_samples_split': 2}\n",
      "\n",
      "Model with rank: 2\n",
      "Mean validation score: 0.890 (std: 0.049)\n",
      "Parameters: {'criterion': 'gini', 'max_depth': 7, 'min_samples_split': 3}\n",
      "\n",
      "Model with rank: 2\n",
      "Mean validation score: 0.890 (std: 0.064)\n",
      "Parameters: {'criterion': 'gini', 'max_depth': 4, 'min_samples_split': 3}\n",
      "\n",
      "Model with rank: 2\n",
      "Mean validation score: 0.890 (std: 0.064)\n",
      "Parameters: {'criterion': 'gini', 'max_depth': 4, 'min_samples_split': 2}\n",
      "\n",
      "Model with rank: 2\n",
      "Mean validation score: 0.890 (std: 0.055)\n",
      "Parameters: {'criterion': 'gini', 'max_depth': 7, 'min_samples_split': 3}\n",
      "\n",
      "Model with rank: 2\n",
      "Mean validation score: 0.890 (std: 0.036)\n",
      "Parameters: {'criterion': 'entropy', 'max_depth': 9, 'min_samples_split': 2}\n",
      "\n"
     ]
    },
    {
     "name": "stderr",
     "output_type": "stream",
     "text": [
      "/Users/wangqianwen/Documents/git_repo/discrimination_in_ML/py/myenv/lib/python3.6/site-packages/sklearn/model_selection/_search.py:841: DeprecationWarning: The default of the `iid` parameter will change from True to False in version 0.22 and will be removed in 0.24. This will change numeric results when test-set sizes are unequal.\n",
      "  DeprecationWarning)\n"
     ]
    }
   ],
   "source": [
    "from sklearn.tree import DecisionTreeClassifier\n",
    "clf = DecisionTreeClassifier()\n",
    "param_dist = {\n",
    "    \"criterion\": [\"gini\", \"entropy\"],\n",
    "    \"max_depth\": sp_randint(2, 10),\n",
    "    \"min_samples_split\": sp_randint(2,4)\n",
    "}\n",
    "\n",
    "search_model(clf, param_dist, 'academic')\n"
   ]
  },
  {
   "cell_type": "code",
   "execution_count": null,
   "metadata": {},
   "outputs": [],
   "source": []
  }
 ],
 "metadata": {
  "kernelspec": {
   "display_name": "Python 3",
   "language": "python",
   "name": "python3"
  },
  "language_info": {
   "codemirror_mode": {
    "name": "ipython",
    "version": 3
   },
   "file_extension": ".py",
   "mimetype": "text/x-python",
   "name": "python",
   "nbconvert_exporter": "python",
   "pygments_lexer": "ipython3",
   "version": "3.6.5"
  }
 },
 "nbformat": 4,
 "nbformat_minor": 2
}
